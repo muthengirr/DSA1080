{
 "cells": [
  {
   "cell_type": "code",
   "execution_count": 3,
   "id": "101359b5",
   "metadata": {},
   "outputs": [
    {
     "name": "stdout",
     "output_type": "stream",
     "text": [
      "Hello world\n"
     ]
    }
   ],
   "source": [
    "print(\"Hello world\")"
   ]
  },
  {
   "cell_type": "code",
   "execution_count": null,
   "id": "ce6e1e33",
   "metadata": {},
   "outputs": [],
   "source": []
  },
  {
   "cell_type": "code",
   "execution_count": 6,
   "id": "e46aa97d",
   "metadata": {},
   "outputs": [
    {
     "name": "stdout",
     "output_type": "stream",
     "text": [
      "8\n"
     ]
    }
   ],
   "source": [
    "#program that adds two numbers\n",
    "def add_numbers(num1, num2):\n",
    "    return num1 + num2\n",
    "print(add_numbers(5, 3))  # Output: 8\n",
    "#program that subtracts two numbers \n"
   ]
  },
  {
   "cell_type": "markdown",
   "id": "79f69067",
   "metadata": {},
   "source": []
  },
  {
   "cell_type": "code",
   "execution_count": 1,
   "id": "4346d941",
   "metadata": {},
   "outputs": [],
   "source": [
    "my_name = \"Richard Muthengi\"\n",
    "my_age = 20\n",
    "fun_fact = \"i enjoy listening to music and watching movies\""
   ]
  },
  {
   "cell_type": "code",
   "execution_count": 2,
   "id": "aa6f75c4",
   "metadata": {},
   "outputs": [
    {
     "name": "stdout",
     "output_type": "stream",
     "text": [
      "Hi, My name is Richard Muthengi.\n",
      "I am 20 years old.\n",
      "Fun fact about me:listening to music and watching movies.\n"
     ]
    }
   ],
   "source": [
    "print(\"Hi, My name is Richard Muthengi.\")\n",
    "print(\"I am 20 years old.\") \n",
    "print(\"Fun fact about me:listening to music and watching movies.\")"
   ]
  },
  {
   "cell_type": "code",
   "execution_count": 3,
   "id": "28611284",
   "metadata": {},
   "outputs": [
    {
     "name": "stdout",
     "output_type": "stream",
     "text": [
      "Nice to meet you, Bob! Thankyou for answering.\n",
      "What is yor major?\n",
      "I am a data science major.\n",
      "I am currently in my first year second semester.\n",
      "I am looking forward to learning more about data science.\n",
      "have a lovely day!\n"
     ]
    }
   ],
   "source": [
    "user_name = input(\"what is your name?\")\n",
    "print(\"Nice to meet you, \" + user_name+\"! Thankyou for answering.\")\n",
    "print(\"What is yor major?\")\n",
    "print(\"I am a data science major.\")\n",
    "print(\"I am currently in my first year second semester.\")\n",
    "print(\"I am looking forward to learning more about data science.\")      \n",
    "print(\"have a lovely day!\")\n",
    "      \n"
   ]
  },
  {
   "cell_type": "code",
   "execution_count": 4,
   "id": "ab9f8d50",
   "metadata": {},
   "outputs": [
    {
     "name": "stdout",
     "output_type": "stream",
     "text": [
      "5 is greater than 2\n"
     ]
    }
   ],
   "source": [
    "if 5>2:\n",
    " print(\"5 is greater than 2\")"
   ]
  },
  {
   "cell_type": "code",
   "execution_count": 5,
   "id": "2ea24cf7",
   "metadata": {},
   "outputs": [
    {
     "ename": "IndentationError",
     "evalue": "expected an indented block after 'if' statement on line 1 (2693080537.py, line 2)",
     "output_type": "error",
     "traceback": [
      "  \u001b[36mCell\u001b[39m\u001b[36m \u001b[39m\u001b[32mIn[5]\u001b[39m\u001b[32m, line 2\u001b[39m\n\u001b[31m    \u001b[39m\u001b[31mprint(\"5 is greater than 2\")\u001b[39m\n    ^\n\u001b[31mIndentationError\u001b[39m\u001b[31m:\u001b[39m expected an indented block after 'if' statement on line 1\n"
     ]
    }
   ],
   "source": [
    "if 5>2:\n",
    "print(\"5 is greater than 2\")"
   ]
  },
  {
   "cell_type": "code",
   "execution_count": null,
   "id": "7a88c6fd",
   "metadata": {},
   "outputs": [],
   "source": [
    "# This is a comment\n"
   ]
  },
  {
   "cell_type": "code",
   "execution_count": null,
   "id": "e541dbe3",
   "metadata": {},
   "outputs": [],
   "source": [
    "\"\"\n",
    "# This is a multi-line comment\"\n"
   ]
  },
  {
   "cell_type": "code",
   "execution_count": null,
   "id": "5a33148a",
   "metadata": {},
   "outputs": [
    {
     "name": "stdout",
     "output_type": "stream",
     "text": [
      "5\n",
      "John\n"
     ]
    }
   ],
   "source": [
    "# Variables\n",
    "x=5\n",
    "y=\"John\"\n",
    "print (x)\n",
    "print (y)"
   ]
  },
  {
   "cell_type": "code",
   "execution_count": null,
   "id": "9762cffc",
   "metadata": {},
   "outputs": [],
   "source": [
    "# Assigning a single value to multiple variables\n",
    "x=y=z=\"Orange\"\n",
    "a,b,c=1,2,3 "
   ]
  },
  {
   "cell_type": "code",
   "execution_count": null,
   "id": "818fc2de",
   "metadata": {},
   "outputs": [],
   "source": [
    "# legal variable names\n",
    "my_var = \"John\"\n",
    "myVar = \"John\"\n",
    "myvar = \"John\""
   ]
  },
  {
   "cell_type": "code",
   "execution_count": null,
   "id": "aa951563",
   "metadata": {},
   "outputs": [],
   "source": []
  },
  {
   "cell_type": "code",
   "execution_count": null,
   "id": "dfcfadb6",
   "metadata": {},
   "outputs": [],
   "source": [
    "#illegal variable names\n",
    "1myvar = \"John\"\n",
    "my-var = \"John\"\n",
    "my var = \"John\""
   ]
  },
  {
   "cell_type": "code",
   "execution_count": null,
   "id": "43f81371",
   "metadata": {},
   "outputs": [
    {
     "name": "stdout",
     "output_type": "stream",
     "text": [
      "<class 'int'>\n",
      "<class 'str'>\n",
      "<class 'float'>\n"
     ]
    }
   ],
   "source": [
    "#Number types\n",
    "X=4\n",
    "Y=\"shahid\" \n",
    "Z=5.987\n",
    "\n",
    "print(type(X))\n",
    "print(type(Y))\n",
    "print(type(Z))"
   ]
  },
  {
   "cell_type": "code",
   "execution_count": null,
   "id": "5a445b41",
   "metadata": {},
   "outputs": [
    {
     "name": "stdout",
     "output_type": "stream",
     "text": [
      "<class 'int'>\n",
      "<class 'int'>\n",
      "<class 'int'>\n"
     ]
    }
   ],
   "source": [
    "#Integers\n",
    "x=1458\n",
    "y=35677849087711\n",
    "z=-324567389\n",
    "\n",
    "print(type(x))\n",
    "print(type(y))\n",
    "print(type(z))"
   ]
  },
  {
   "cell_type": "code",
   "execution_count": null,
   "id": "d5ce1fe8",
   "metadata": {},
   "outputs": [
    {
     "name": "stdout",
     "output_type": "stream",
     "text": [
      "<class 'float'>\n",
      "<class 'float'>\n",
      "<class 'float'>\n"
     ]
    }
   ],
   "source": [
    "# Float\n",
    "x=1.10\n",
    "y=1.0\n",
    "z=-35.59\n",
    "\n",
    "print(type(x))\n",
    "print(type(y))\n",
    "print(type(z))\n"
   ]
  },
  {
   "cell_type": "code",
   "execution_count": null,
   "id": "990f465e",
   "metadata": {},
   "outputs": [
    {
     "name": "stdout",
     "output_type": "stream",
     "text": [
      "<class 'complex'>\n",
      "<class 'complex'>\n",
      "<class 'complex'>\n"
     ]
    }
   ],
   "source": [
    "#Complex\n",
    "x=3+5j\n",
    "y=5j\n",
    "z=-5j\n",
    "\n",
    "print(type(x))\n",
    "print(type(y))\n",
    "print(type(z))"
   ]
  },
  {
   "cell_type": "code",
   "execution_count": null,
   "id": "9eeb8b32",
   "metadata": {},
   "outputs": [
    {
     "name": "stdout",
     "output_type": "stream",
     "text": [
      "1.0\n",
      "2\n",
      "(1+0j)\n",
      "<class 'float'>\n",
      "<class 'int'>\n",
      "<class 'complex'>\n"
     ]
    }
   ],
   "source": [
    "#Type conversion\n",
    "x=1 #int\n",
    "y=2.8 #float\n",
    "z=1j #complex\n",
    "#convert from int to float\n",
    "a=float(x)\n",
    "#convert from float to int\n",
    "b=int(y)    \n",
    "#convert from int to complex\n",
    "c=complex(x)\n",
    "print(a)\n",
    "print(b)\n",
    "print(c)\n",
    "print(type(a))\n",
    "print(type(b))\n",
    "print(type(c))"
   ]
  },
  {
   "cell_type": "code",
   "execution_count": null,
   "id": "517dfc37",
   "metadata": {},
   "outputs": [
    {
     "name": "stdout",
     "output_type": "stream",
     "text": [
      "hello\n"
     ]
    }
   ],
   "source": [
    "#Python strings\n",
    "print(\"hello\")"
   ]
  },
  {
   "cell_type": "code",
   "execution_count": null,
   "id": "8ba417b6",
   "metadata": {},
   "outputs": [
    {
     "name": "stdout",
     "output_type": "stream",
     "text": [
      "22\n"
     ]
    }
   ],
   "source": [
    "#string Length\n",
    "a=\"Richard Mutua Muthengi\" \n",
    "print(len(a))"
   ]
  },
  {
   "cell_type": "code",
   "execution_count": null,
   "id": "312f2883",
   "metadata": {},
   "outputs": [
    {
     "name": "stdout",
     "output_type": "stream",
     "text": [
      "llo\n"
     ]
    }
   ],
   "source": [
    "#Slicing strings\n",
    "b=\"Hello world!\"\n",
    "S=b[2:5]\n",
    "print(S)"
   ]
  },
  {
   "cell_type": "code",
   "execution_count": null,
   "id": "1f1fc92d",
   "metadata": {},
   "outputs": [
    {
     "name": "stdout",
     "output_type": "stream",
     "text": [
      "Hello\n"
     ]
    }
   ],
   "source": [
    "#Slice to start\n",
    "b=\"Hello World!)\"\n",
    "print(b[:5])"
   ]
  },
  {
   "cell_type": "code",
   "execution_count": null,
   "id": "430e50ba",
   "metadata": {},
   "outputs": [
    {
     "name": "stdout",
     "output_type": "stream",
     "text": [
      "llo,World!\n"
     ]
    }
   ],
   "source": [
    "#Slice to end\n",
    "b= \"Hello,World!\"\n",
    "print(b[2:])"
   ]
  },
  {
   "cell_type": "code",
   "execution_count": null,
   "id": "1e06cf17",
   "metadata": {},
   "outputs": [
    {
     "name": "stdout",
     "output_type": "stream",
     "text": [
      "HELLO,WORLD!\n"
     ]
    }
   ],
   "source": [
    "#Coverting into uppercase\n",
    "a= \"Hello,World!\"\n",
    "B=a.upper()\n",
    "print(B)"
   ]
  },
  {
   "cell_type": "code",
   "execution_count": null,
   "id": "e52a10e8",
   "metadata": {},
   "outputs": [
    {
     "name": "stdout",
     "output_type": "stream",
     "text": [
      "hello,world!\n"
     ]
    }
   ],
   "source": [
    "#lower case\n",
    "a= \"Hello,World!\"\n",
    "print(a.lower())"
   ]
  },
  {
   "cell_type": "code",
   "execution_count": null,
   "id": "2447e95f",
   "metadata": {},
   "outputs": [
    {
     "name": "stdout",
     "output_type": "stream",
     "text": [
      "Tello,World!\n"
     ]
    }
   ],
   "source": [
    "#Replacing string\n",
    "a=\"Hello,World!\"\n",
    "B=a.replace(\"H\",\"T\")\n",
    "print(B)\n"
   ]
  },
  {
   "cell_type": "code",
   "execution_count": null,
   "id": "6ab54fb2",
   "metadata": {},
   "outputs": [
    {
     "name": "stdout",
     "output_type": "stream",
     "text": [
      "HelloWorld\n"
     ]
    }
   ],
   "source": [
    "#String Concantenation\n",
    "a=\"Hello\"\n",
    "b=\"World\"\n",
    "c=a+b\n",
    "print(c)\n",
    "\n"
   ]
  },
  {
   "cell_type": "code",
   "execution_count": null,
   "id": "10a2c7ed",
   "metadata": {},
   "outputs": [],
   "source": []
  },
  {
   "cell_type": "code",
   "execution_count": null,
   "id": "00ea933e",
   "metadata": {},
   "outputs": [
    {
     "name": "stdout",
     "output_type": "stream",
     "text": [
      "Hello World\n"
     ]
    }
   ],
   "source": [
    "#adding space\n",
    "a=\"Hello\"\n",
    "b=\"World\"\n",
    "c=a+\" \"+b\n",
    "print(c)\n"
   ]
  },
  {
   "cell_type": "code",
   "execution_count": null,
   "id": "2281e945",
   "metadata": {},
   "outputs": [],
   "source": [
    "age=36\n",
    "txt=\"My name is John and I am{}\"\n",
    "D=txt.format(age)"
   ]
  },
  {
   "cell_type": "code",
   "execution_count": null,
   "id": "5d33ad18",
   "metadata": {},
   "outputs": [
    {
     "name": "stdout",
     "output_type": "stream",
     "text": [
      "The sum of1.5 and 6.3 is 7.8\n"
     ]
    }
   ],
   "source": [
    "#Adiing two numbers\n",
    "\n",
    "num1 = 1.5\n",
    "num2 = 6.3\n",
    "\n",
    "#add two numbers\n",
    "sum=num1+num2\n",
    "\n",
    "#display the sum\n",
    "print(\"The sum of{0} and {1} is {2}\". format(num1,num2,sum))"
   ]
  },
  {
   "cell_type": "code",
   "execution_count": null,
   "id": "8141fc8b",
   "metadata": {},
   "outputs": [
    {
     "name": "stdout",
     "output_type": "stream",
     "text": [
      "The sum of 3 and 2 is 5.0\n"
     ]
    }
   ],
   "source": [
    "#Add two numbers with user input\n",
    "\n",
    "#Store input numbers\n",
    "num1 = input (\"Enter first number: \")\n",
    "num2 = input (\"Enter second number: \")\n",
    "\n",
    "#Add two numbers\n",
    "sum = float(num1) + float(num2)\n",
    "#Display the sum    \n",
    "print(\"The sum of {0} and {1} is {2}\".format(num1, num2, sum))"
   ]
  },
  {
   "cell_type": "code",
   "execution_count": null,
   "id": "708a80ff",
   "metadata": {},
   "outputs": [
    {
     "name": "stdout",
     "output_type": "stream",
     "text": [
      "The cube of a given number 4.0= 64.0\n"
     ]
    }
   ],
   "source": [
    "# Python program to calculate cube of a number\n",
    "number= float(input(\"Please enter any numeric value: \"))\n",
    "\n",
    "cube=number * number * number\n",
    "\n",
    "print(\"The cube of a given number {0}= {1}\".format(number,cube))"
   ]
  },
  {
   "cell_type": "code",
   "execution_count": null,
   "id": "a55b9809",
   "metadata": {},
   "outputs": [],
   "source": [
    "#Lists\n",
    "L1= [1,2,3,4,5,6]\n",
    "L2= [1,2,3,4,5,6]\n",
    "\n",
    "\n"
   ]
  },
  {
   "cell_type": "code",
   "execution_count": null,
   "id": "6f0bf807",
   "metadata": {},
   "outputs": [
    {
     "data": {
      "text/plain": [
       "[1, 2, 3, 4]"
      ]
     },
     "execution_count": 8,
     "metadata": {},
     "output_type": "execute_result"
    }
   ],
   "source": [
    "# Spliting lists\n",
    "List= [1,2,3,4,5,6]\n",
    "List[0:]\n",
    "List[:]\n",
    "List[2:4]\n",
    "List[1:3]\n",
    "List[:4]\n"
   ]
  },
  {
   "cell_type": "code",
   "execution_count": null,
   "id": "e04e1eef",
   "metadata": {},
   "outputs": [
    {
     "name": "stdout",
     "output_type": "stream",
     "text": [
      "1\n",
      "2\n",
      "3\n",
      "4\n"
     ]
    }
   ],
   "source": [
    "#Slicing lists\n",
    "list=[1,2,3,4,5,6]\n",
    "print(list[0])\n",
    "print(list[1])\n",
    "print(list[2])\n",
    "print(list[3])"
   ]
  },
  {
   "cell_type": "code",
   "execution_count": null,
   "id": "b54fd589",
   "metadata": {},
   "outputs": [
    {
     "name": "stdout",
     "output_type": "stream",
     "text": [
      "[1, 2, 3, 4, 5, 6]\n",
      "[1, 2, 3, 4, 5, 6]\n",
      "[2, 4, 6]\n"
     ]
    }
   ],
   "source": [
    "#Slicing elements \n",
    "print(list[0:6])  #This will print elements from index 0 to index 5\n",
    "print(list[:]) #This will print all the elements in the list\n",
    "print(list[1:6:2]) #The last index is the step size, so it will skip every second element\n"
   ]
  },
  {
   "cell_type": "code",
   "execution_count": null,
   "id": "1eecb014",
   "metadata": {},
   "outputs": [
    {
     "name": "stdout",
     "output_type": "stream",
     "text": [
      "list[-1]\n",
      "list[-2]\n",
      "list[slice(-3, None, None)]\n",
      "list[slice(None, -1, None)]\n",
      "list[slice(-3, -1, None)]\n"
     ]
    }
   ],
   "source": [
    "#Negative indexing\n",
    "List =[1,2,3,4,5]\n",
    "print(list[-1]) #This will print the last element in the list\n",
    "print(list[-2]) #This will print the second last element in the list\n",
    "print(list[-3:])    #This will print the last three elements in the list\n",
    "print(list[:-1])    #This will print all elements except the last one\n",
    "print(list[-3:-1])              #This will print the elements from index -3 to index -2 (not including -1)"
   ]
  },
  {
   "cell_type": "code",
   "execution_count": null,
   "id": "66b51413",
   "metadata": {},
   "outputs": [
    {
     "name": "stdout",
     "output_type": "stream",
     "text": [
      "Tough\n",
      "imes never last\n",
      " times\n",
      "tsal reven semit hguoT\n"
     ]
    }
   ],
   "source": [
    "#String slicing\n",
    "c=\"Tough times never last\"\n",
    "\n",
    "#Extracting the first 5 characters\n",
    "print(c[:5])  \n",
    "\n",
    "#Extracting the first characters from index 7 to the end\n",
    "print(c[7:])\n",
    "\n",
    "#Extracting a substring of my string\n",
    "print(c[5:11])\n",
    "\n",
    "#Reversing the string\n",
    "print(c[::-1])"
   ]
  },
  {
   "cell_type": "code",
   "execution_count": null,
   "id": "42866c3a",
   "metadata": {},
   "outputs": [
    {
     "name": "stdout",
     "output_type": "stream",
     "text": [
      "[0, 1, 2]\n",
      "[4, 5, 6]\n",
      "[0, 2, 4, 6, 8]\n",
      "[9, 8, 7, 6, 5, 4, 3, 2, 1, 0]\n"
     ]
    }
   ],
   "source": [
    "#List slicing \n",
    "d= [0,1,2,3,4,5,6,7,8,9]\n",
    "\n",
    "#Extracting the first three elements\n",
    "print(d[:3])\n",
    "\n",
    "#Extracting elements from index 4 to 7\n",
    "print(d[4:7])\n",
    "\n",
    "#Extracting every element from the second element from the list\n",
    "print(d[::2])\n",
    "\n",
    "#Reversing the list by slicing\n",
    "print(d[::-1])\n",
    "\n"
   ]
  },
  {
   "cell_type": "code",
   "execution_count": null,
   "id": "6b14f2dd",
   "metadata": {},
   "outputs": [
    {
     "name": "stdout",
     "output_type": "stream",
     "text": [
      "ast\n",
      "[5, 6, 7, 8, 9]\n"
     ]
    }
   ],
   "source": [
    "#Negative indexing\n",
    "\n",
    "#Extracting the last three characters of the string\n",
    "print(c[-3:])\n",
    "\n",
    "#Extracting the last 5 elements of the list\n",
    "print(d[-5:])"
   ]
  },
  {
   "cell_type": "code",
   "execution_count": null,
   "id": "2f933509",
   "metadata": {},
   "outputs": [
    {
     "name": "stdout",
     "output_type": "stream",
     "text": [
      "[1, 2, 3, 4, 5, 6]\n",
      "[1, 2, 10, 4, 5, 6]\n",
      "[1, 89, 78, 4, 5, 6]\n",
      "[1, 99]\n"
     ]
    }
   ],
   "source": [
    "#Updating lists\n",
    "list = [1, 2, 3, 4, 5, 6]\n",
    "print(list)\n",
    "#it will assign value to the value to the second index\n",
    "list[2] = 10\n",
    "print(list)\n",
    "# Adding multiple elements\n",
    "list[1:3] = [89, 78]\n",
    "print(list)\n",
    "#it will add value to the end of the list\n",
    "list[1:] = [99]\n",
    "print(list)\n"
   ]
  },
  {
   "cell_type": "code",
   "execution_count": null,
   "id": "9fd6348d",
   "metadata": {},
   "outputs": [
    {
     "name": "stdout",
     "output_type": "stream",
     "text": [
      "['apple', 'banana', 'cherry', 'orange']\n"
     ]
    }
   ],
   "source": [
    "#Append method\n",
    "thislist = [\"apple\", \"banana\", \"cherry\"]\n",
    "thislist.append(\"orange\")\n",
    "print(thislist)"
   ]
  },
  {
   "cell_type": "code",
   "execution_count": null,
   "id": "6efabb5d",
   "metadata": {},
   "outputs": [
    {
     "name": "stdout",
     "output_type": "stream",
     "text": [
      "['orange', 'apple', 'banana', 'cherry']\n"
     ]
    }
   ],
   "source": [
    "#Insert meethod\n",
    "thislist = [\"apple\", \"banana\", \"cherry\"]\n",
    "thislist.insert(0, \"orange\")\n",
    "print(thislist)"
   ]
  },
  {
   "cell_type": "code",
   "execution_count": null,
   "id": "586fbaf1",
   "metadata": {},
   "outputs": [
    {
     "name": "stdout",
     "output_type": "stream",
     "text": [
      "['apple', 'cherry']\n"
     ]
    }
   ],
   "source": [
    "#Removing items in alist\n",
    "thislist = [\"apple\", \"banana\", \"cherry\"]\n",
    "thislist.remove(\"banana\")\n",
    "print(thislist)"
   ]
  },
  {
   "cell_type": "code",
   "execution_count": null,
   "id": "ee0ae813",
   "metadata": {},
   "outputs": [
    {
     "name": "stdout",
     "output_type": "stream",
     "text": [
      "['apple', 'cherry']\n"
     ]
    }
   ],
   "source": [
    "#Pop method of removing items\n",
    "thislist = [\"apple\", \"banana\", \"cherry\"]\n",
    "thislist.pop(1)\n",
    "print(thislist)"
   ]
  },
  {
   "cell_type": "code",
   "execution_count": null,
   "id": "78ffe542",
   "metadata": {},
   "outputs": [
    {
     "name": "stdout",
     "output_type": "stream",
     "text": [
      "['banana', 'cherry']\n",
      "[]\n"
     ]
    }
   ],
   "source": [
    "#Delete method\n",
    "thislist = [\"apple\", \"banana\", \"cherry\"]\n",
    "del thislist[0]\n",
    "print(thislist)\n",
    "#Clear method\n",
    "thislist = [\"apple\", \"banana\", \"cherry\"]\n",
    "thislist.clear()\n",
    "print(thislist)"
   ]
  },
  {
   "cell_type": "code",
   "execution_count": null,
   "id": "9ebf13a1",
   "metadata": {},
   "outputs": [
    {
     "name": "stdout",
     "output_type": "stream",
     "text": [
      "('blue', 'red', 'green', 'yellow', 'purple', 'orange')\n"
     ]
    }
   ],
   "source": [
    "#1.Create a tuple with atleast five different items and print it\n",
    "thistuple1 = (\"blue\", \"red\", \"green\", \"yellow\", \"purple\", \"orange\")\n",
    "print(thistuple1)"
   ]
  },
  {
   "cell_type": "code",
   "execution_count": null,
   "id": "b0893a4b",
   "metadata": {},
   "outputs": [
    {
     "name": "stdout",
     "output_type": "stream",
     "text": [
      "red\n",
      "yellow\n"
     ]
    }
   ],
   "source": [
    "#2.Access and print the second and fourth elements of the tuple\n",
    "thistuple1 = (\"blue\", \"red\", \"green\", \"yellow\", \"purple\", \"orange\")\n",
    "print(thistuple1[1])  \n",
    "print(thistuple1[3])  "
   ]
  },
  {
   "cell_type": "code",
   "execution_count": null,
   "id": "dda5aa7c",
   "metadata": {},
   "outputs": [
    {
     "name": "stdout",
     "output_type": "stream",
     "text": [
      "('blue', 'red', 'green', 'yellow', 'purple', 'orange', 'brown', 'pink', 'maroon')\n"
     ]
    }
   ],
   "source": [
    "#3.Creating a new tuple by concatenating the original tuple with another containing three more items\n",
    "thistuple2 = (\"brown\", \"pink\", \"maroon\")\n",
    "thistuple1 = (\"blue\", \"red\", \"green\", \"yellow\", \"purple\", \"orange\")\n",
    "thistuple1 +=thistuple2\n",
    "print(thistuple1)"
   ]
  },
  {
   "cell_type": "code",
   "execution_count": null,
   "id": "6dd1c913",
   "metadata": {},
   "outputs": [
    {
     "name": "stdout",
     "output_type": "stream",
     "text": [
      "('gray', 'blue', 'red', 'green', 'yellow', 'purple', 'orange', 'brown', 'pink', 'maroon')\n"
     ]
    }
   ],
   "source": [
    "#4.Convert the concatenated tuple to a list, add a new item, then convert it back to a tuple\n",
    "thistuple1 = (\"blue\", \"red\", \"green\", \"yellow\", \"purple\", \"orange\", \"brown\", \"pink\", \"maroon\")\n",
    "y= list(thistuple1)\n",
    "y.insert(0,\"gray\")\n",
    "thistuple1 = tuple(y)\n",
    "print(thistuple1)"
   ]
  },
  {
   "cell_type": "code",
   "execution_count": null,
   "id": "f5011387",
   "metadata": {},
   "outputs": [
    {
     "name": "stdout",
     "output_type": "stream",
     "text": [
      "10\n"
     ]
    }
   ],
   "source": [
    "#5.Find the length of the updated tuple\n",
    "thistuple1 = (\"blue\", \"red\", \"green\", \"yellow\", \"purple\", \"orange\", \"brown\", \"pink\", \"maroon\", \"gray\")\n",
    "print(len(thistuple1))"
   ]
  },
  {
   "cell_type": "code",
   "execution_count": null,
   "id": "649f3026",
   "metadata": {},
   "outputs": [
    {
     "name": "stdout",
     "output_type": "stream",
     "text": [
      "orange is in the tuple\n"
     ]
    }
   ],
   "source": [
    "#6.Check if a specific item is in the updated tuple and print the result\n",
    "thistuple1 = (\"blue\", \"red\", \"green\", \"yellow\", \"purple\", \"orange\", \"brown\", \"pink\", \"maroon\", \"gray\")\n",
    "if \"orange\" in thistuple1:\n",
    "    print(f\"orange is in the tuple\")\n",
    "else:\n",
    "    print(f\"orange is not in the tuple\")"
   ]
  },
  {
   "cell_type": "code",
   "execution_count": null,
   "id": "abdb9cd0",
   "metadata": {},
   "outputs": [
    {
     "name": "stdout",
     "output_type": "stream",
     "text": [
      "blue\n",
      "red\n",
      "green\n",
      "yellow\n",
      "purple\n",
      "orange\n",
      "brown\n",
      "pink\n",
      "maroon\n",
      "gray\n"
     ]
    }
   ],
   "source": [
    "#7.Iterate through the tuple and print each item\n",
    "thistuple1 = (\"blue\", \"red\", \"green\", \"yellow\", \"purple\", \"orange\", \"brown\", \"pink\", \"maroon\", \"gray\")\n",
    "for item in thistuple1:\n",
    "    print(item)\n"
   ]
  },
  {
   "cell_type": "code",
   "execution_count": null,
   "id": "cc14b430",
   "metadata": {},
   "outputs": [
    {
     "name": "stdout",
     "output_type": "stream",
     "text": [
      "<class 'str'>\n"
     ]
    }
   ],
   "source": [
    "#8.Create a tuple with a single element and print its type\n",
    "z = (\"black,\")\n",
    "print(type(z))"
   ]
  },
  {
   "cell_type": "code",
   "execution_count": null,
   "id": "673ad097",
   "metadata": {},
   "outputs": [
    {
     "name": "stdout",
     "output_type": "stream",
     "text": [
      "blue red green\n"
     ]
    }
   ],
   "source": [
    "#9.Unpack the first three elements of the updated tuple into three variables and print them\n",
    "thistuple1 = (\"blue\", \"red\", \"green\", \"yellow\", \"purple\", \"orange\", \"brown\", \"pink\", \"maroon\", \"gray\")\n",
    "a, b, c = thistuple1[:3]\n",
    "print(a,b,c)\n"
   ]
  },
  {
   "cell_type": "code",
   "execution_count": null,
   "id": "25f4e861",
   "metadata": {},
   "outputs": [
    {
     "name": "stdout",
     "output_type": "stream",
     "text": [
      "green\n"
     ]
    }
   ],
   "source": [
    "#10.Create a nested tuple and access an element from the inner tuple\n",
    "nested_tuple = ((\"blue\", \"red\"), (\"green\", \"yellow\"), (\"purple\", \"orange\"))\n",
    "print(nested_tuple[1][0])  "
   ]
  },
  {
   "cell_type": "code",
   "execution_count": null,
   "id": "1a5e04f7",
   "metadata": {},
   "outputs": [
    {
     "name": "stdout",
     "output_type": "stream",
     "text": [
      "blue\n",
      "orange\n"
     ]
    }
   ],
   "source": [
    "#11.Access and print the first and last elements of the tuple\n",
    "nested_tuple = ((\"blue\", \"red\"), (\"green\", \"yellow\"), (\"purple\", \"orange\"))\n",
    "print(nested_tuple[0][0])  # First element\n",
    "print(nested_tuple[-1][-1])  # Last element"
   ]
  },
  {
   "cell_type": "code",
   "execution_count": null,
   "id": "eccf129a",
   "metadata": {},
   "outputs": [
    {
     "name": "stdout",
     "output_type": "stream",
     "text": [
      "(('blue', 'red'), ('green', 'yellow'), ('purple', 'orange'), ('blue', 'red'), ('green', 'yellow'), ('purple', 'orange'), ('blue', 'red'), ('green', 'yellow'), ('purple', 'orange'))\n"
     ]
    }
   ],
   "source": [
    "#12.Create a new tuple by repeating the original tuple three times\n",
    "repeated_tuple = nested_tuple * 3\n",
    "print(repeated_tuple)"
   ]
  },
  {
   "cell_type": "code",
   "execution_count": null,
   "id": "fb606d9c",
   "metadata": {},
   "outputs": [
    {
     "name": "stdout",
     "output_type": "stream",
     "text": [
      "(('blue', 'red'), ('green', 'yellow'), ('blue', 'red'), ('green', 'yellow'), ('purple', 'orange'), ('blue', 'red'), ('green', 'yellow'), ('purple', 'orange'))\n"
     ]
    }
   ],
   "source": [
    "#13.Convert the repeated tuple to a list, remove an item, and convert it back to a tuple\n",
    "repeated_tuple = nested_tuple * 3\n",
    "repeated_list = list(repeated_tuple)\n",
    "repeated_list.remove((\"purple\", \"orange\"))\n",
    "repeated_tuple = tuple(repeated_list)\n",
    "print(repeated_tuple)"
   ]
  },
  {
   "cell_type": "code",
   "execution_count": null,
   "id": "88649682",
   "metadata": {},
   "outputs": [
    {
     "name": "stdout",
     "output_type": "stream",
     "text": [
      "('apple', 'banana', 'cherry')\n"
     ]
    }
   ],
   "source": [
    "#This is a tuple\n",
    "thistuple = (\"apple\", \"banana\", \"cherry\")\n",
    "print(thistuple)\n"
   ]
  },
  {
   "cell_type": "code",
   "execution_count": null,
   "id": "df1bdda4",
   "metadata": {},
   "outputs": [
    {
     "name": "stdout",
     "output_type": "stream",
     "text": [
      "12\n"
     ]
    }
   ],
   "source": [
    "#Tuple length\n",
    "thistuple = (\"apple\", \"banana\", \"oranges\", \"kiwi\", \"watermelon\", \"lemon\", \"peach\", \"grapes\", \"pineapple\", \"pears\", \"plum\", \"mango\")\n",
    "print(len(thistuple))"
   ]
  },
  {
   "cell_type": "code",
   "execution_count": null,
   "id": "6e384cbd",
   "metadata": {},
   "outputs": [
    {
     "name": "stdout",
     "output_type": "stream",
     "text": [
      "pineapple\n"
     ]
    }
   ],
   "source": [
    "#Accessing tuple items\n",
    "thistuple = (\"apple\", \"banana\", \"oranges\", \"kiwi\", \"watermelon\", \"lemon\", \"peach\", \"grapes\", \"pineapple\", \"pears\", \"plum\", \"mango\")\n",
    "print(thistuple[8])"
   ]
  },
  {
   "cell_type": "code",
   "execution_count": null,
   "id": "f4e9b520",
   "metadata": {},
   "outputs": [
    {
     "name": "stdout",
     "output_type": "stream",
     "text": [
      "('oranges', 'kiwi', 'watermelon')\n"
     ]
    }
   ],
   "source": [
    "#Range of tuple items\n",
    "thistuple = (\"apple\", \"banana\", \"oranges\", \"kiwi\", \"watermelon\", \"lemon\", \"peach\", \"grapes\", \"pineapple\", \"pears\", \"plum\", \"mango\")\n",
    "print(thistuple[2:5]) "
   ]
  },
  {
   "cell_type": "code",
   "execution_count": null,
   "id": "864e884a",
   "metadata": {},
   "outputs": [
    {
     "name": "stdout",
     "output_type": "stream",
     "text": [
      "('apple', 'banana', 'oranges', 'kiwi')\n",
      "('oranges', 'kiwi', 'watermelon', 'lemon', 'peach', 'grapes', 'pineapple', 'pears', 'plum', 'mango')\n"
     ]
    }
   ],
   "source": [
    "#Returning items from beginning to a certain point \n",
    "thistuple = (\"apple\", \"banana\", \"oranges\", \"kiwi\", \"watermelon\", \"lemon\", \"peach\", \"grapes\", \"pineapple\", \"pears\", \"plum\", \"mango\")\n",
    "print(thistuple[:4]) \n",
    "#Returning items from a certain point to the end\n",
    "print(thistuple[2:])"
   ]
  },
  {
   "cell_type": "code",
   "execution_count": null,
   "id": "3b6da61e",
   "metadata": {},
   "outputs": [
    {
     "name": "stdout",
     "output_type": "stream",
     "text": [
      "('apple', 'kiwi', 'cherry')\n"
     ]
    }
   ],
   "source": [
    "#Converting a tuple to a list\n",
    "x =(\"apple\", \"banana\", \"cherry\")\n",
    "y = list(x)\n",
    "y[1] = \"kiwi\"\n",
    "x = tuple(y)\n",
    "print(x)\n"
   ]
  },
  {
   "cell_type": "code",
   "execution_count": null,
   "id": "6ee69bc2",
   "metadata": {},
   "outputs": [
    {
     "name": "stdout",
     "output_type": "stream",
     "text": [
      "('apple', 'banana', 'cherry', 'orange,')\n"
     ]
    }
   ],
   "source": [
    "#Converting a tuple to a list\n",
    "thistuple =(\"apple\", \"banana\", \"cherry\")\n",
    "y =list(thistuple)\n",
    "y.append(\"orange,\")\n",
    "thistuple = tuple(y)\n",
    "print(thistuple)"
   ]
  },
  {
   "cell_type": "code",
   "execution_count": null,
   "id": "4ec57ef7",
   "metadata": {},
   "outputs": [],
   "source": []
  },
  {
   "cell_type": "markdown",
   "id": "bf6be4ef",
   "metadata": {},
   "source": []
  },
  {
   "cell_type": "code",
   "execution_count": null,
   "id": "8266056b",
   "metadata": {},
   "outputs": [
    {
     "name": "stdout",
     "output_type": "stream",
     "text": [
      "('apple', 'banana', 'cherry', 'orange')\n"
     ]
    }
   ],
   "source": [
    "#Adding a tuple to another tuple\n",
    "thistuple1 = (\"apple\", \"banana\", \"cherry\")\n",
    "y =(\"orange\",)\n",
    "thistuple1 += y\n",
    "print(thistuple1)\n",
    "\n"
   ]
  },
  {
   "cell_type": "code",
   "execution_count": null,
   "id": "8dc18f43",
   "metadata": {},
   "outputs": [
    {
     "name": "stdout",
     "output_type": "stream",
     "text": [
      "('apple', 'cherry')\n"
     ]
    }
   ],
   "source": [
    "#Remoing items from a tuple\n",
    "thistuple = (\"apple\", \"banana\", \"cherry\")\n",
    "y = list(thistuple)\n",
    "y.remove(\"banana\")\n",
    "thistuple = tuple(y)\n",
    "print(thistuple)"
   ]
  },
  {
   "cell_type": "code",
   "execution_count": null,
   "id": "08fd4ff5",
   "metadata": {},
   "outputs": [
    {
     "name": "stdout",
     "output_type": "stream",
     "text": [
      "{'apple', 'cherry', 'banana'}\n"
     ]
    }
   ],
   "source": [
    "#Sets\n",
    "thisset= {\"apple\", \"banana\", \"cherry\"}\n",
    "print(thisset)"
   ]
  },
  {
   "cell_type": "code",
   "execution_count": null,
   "id": "fdc1d32a",
   "metadata": {},
   "outputs": [
    {
     "name": "stdout",
     "output_type": "stream",
     "text": [
      "{'apple', 'cherry', 'banana'}\n"
     ]
    }
   ],
   "source": [
    "#You cannot duplicate items in a set\n",
    "thisset = {\"apple\", \"banana\", \"cherry\", \"apple\"}\n",
    "print(thisset)  "
   ]
  },
  {
   "cell_type": "code",
   "execution_count": null,
   "id": "d97a9c48",
   "metadata": {},
   "outputs": [
    {
     "name": "stdout",
     "output_type": "stream",
     "text": [
      "apple\n",
      "cherry\n",
      "banana\n"
     ]
    }
   ],
   "source": [
    "#Access set items\n",
    "thisset = {\"apple\", \"banana\", \"cherry\"}\n",
    "for x in thisset:\n",
    "    print(x)\n",
    "    "
   ]
  },
  {
   "cell_type": "code",
   "execution_count": null,
   "id": "531752c4",
   "metadata": {},
   "outputs": [
    {
     "name": "stdout",
     "output_type": "stream",
     "text": [
      "{'apple', 'orange', 'cherry', 'banana'}\n"
     ]
    }
   ],
   "source": [
    "#Adding items to a set\n",
    "thisset = {\"apple\", \"banana\", \"cherry\"}\n",
    "thisset.add(\"orange\")\n",
    "print(thisset)\n",
    "\n"
   ]
  },
  {
   "cell_type": "code",
   "execution_count": null,
   "id": "dac76db9",
   "metadata": {},
   "outputs": [
    {
     "name": "stdout",
     "output_type": "stream",
     "text": [
      "{'cherry', 'banana', 'papaya', 'apple', 'mango', 'pineapple'}\n"
     ]
    }
   ],
   "source": [
    "#Using update method to add items to a set (they are unordered and unindexed)\n",
    "thisset = {\"apple\", \"banana\", \"cherry\"}\n",
    "tropical ={\"pineapple\", \"mango\", \"papaya\"}\n",
    "thisset.update(tropical)\n",
    "print(thisset)\n"
   ]
  },
  {
   "cell_type": "code",
   "execution_count": null,
   "id": "e39976e4",
   "metadata": {},
   "outputs": [
    {
     "name": "stdout",
     "output_type": "stream",
     "text": [
      "apple\n"
     ]
    }
   ],
   "source": [
    "#Using pop method to remove an item from a set\n",
    "thisset = {\"apple\", \"banana\", \"cherry\"}\n",
    "x = thisset.pop()\n",
    "print(x)"
   ]
  },
  {
   "cell_type": "code",
   "execution_count": null,
   "id": "49823157",
   "metadata": {},
   "outputs": [
    {
     "name": "stdout",
     "output_type": "stream",
     "text": [
      "{'apple', 'cherry'}\n"
     ]
    }
   ],
   "source": [
    "#Using discard method to remove an item from a set\n",
    "thisset = {\"apple\", \"banana\", \"cherry\"}\n",
    "thisset.discard(\"banana\")\n",
    "print(thisset)"
   ]
  },
  {
   "cell_type": "code",
   "execution_count": null,
   "id": "a3bc2951",
   "metadata": {},
   "outputs": [
    {
     "name": "stdout",
     "output_type": "stream",
     "text": [
      "{'apple', 'cherry'}\n"
     ]
    }
   ],
   "source": [
    "#Using remove method to remove an item from a set\n",
    "thisset = {\"apple\", \"banana\", \"cherry\"}\n",
    "thisset.remove(\"banana\")\n",
    "print(thisset)\n",
    "\n"
   ]
  },
  {
   "cell_type": "code",
   "execution_count": null,
   "id": "49dd4fb0",
   "metadata": {},
   "outputs": [
    {
     "name": "stdout",
     "output_type": "stream",
     "text": [
      "set()\n"
     ]
    }
   ],
   "source": [
    "#Using clear method to all remove items in a set\n",
    "thisset = {\"apple\", \"banana\", \"cherry\"}\n",
    "thisset.clear()\n",
    "print(thisset)"
   ]
  },
  {
   "cell_type": "code",
   "execution_count": null,
   "id": "4a12eb14",
   "metadata": {},
   "outputs": [],
   "source": [
    "#Using del method to delete a set\n",
    "thisset = {\"apple\", \"banana\", \"cherry\"}\n",
    "del thisset\n"
   ]
  },
  {
   "cell_type": "code",
   "execution_count": null,
   "id": "32c10196",
   "metadata": {},
   "outputs": [
    {
     "name": "stdout",
     "output_type": "stream",
     "text": [
      "{'brand': 'Ford', 'model': 'Mustang', 'year': '1964'}\n"
     ]
    }
   ],
   "source": [
    "#Dictionaries\n",
    "thisdict = {\n",
    "    \"brand\": \"Ford\" ,\n",
    "     \"model\": \"Mustang\",\n",
    "     \"year\": \"1964\"\n",
    "}\n",
    "print(thisdict)"
   ]
  },
  {
   "cell_type": "code",
   "execution_count": null,
   "id": "420e2fcf",
   "metadata": {},
   "outputs": [
    {
     "name": "stdout",
     "output_type": "stream",
     "text": [
      "banana\n",
      "apple\n",
      "orange\n"
     ]
    }
   ],
   "source": [
    "thisset = {\"apple\",\"orange\",\"banana\"}\n",
    "for x in thisset:\n",
    "    print(x)"
   ]
  },
  {
   "cell_type": "code",
   "execution_count": null,
   "id": "9026eb88",
   "metadata": {},
   "outputs": [
    {
     "name": "stdout",
     "output_type": "stream",
     "text": [
      "{'brand': 'Ford', 'model': 'Mustang', 'year': '2027'}\n"
     ]
    }
   ],
   "source": [
    "#You cannot have duplicate items\n",
    "thisdict = {\n",
    "    \"brand\": \"Ford\" ,\n",
    "     \"model\": \"Mustang\",\n",
    "     \"year\": \"1974\",\n",
    "     \"year\": \"2027\"\n",
    "}\n",
    "print(thisdict)"
   ]
  },
  {
   "cell_type": "code",
   "execution_count": null,
   "id": "b367b41d",
   "metadata": {},
   "outputs": [
    {
     "name": "stdout",
     "output_type": "stream",
     "text": [
      "3\n"
     ]
    }
   ],
   "source": [
    "#Finding the length of a dictionary\n",
    "Students ={\n",
    "    \"Name\" : \"Shahid\",\n",
    "    \"Branch\" : \"IT\",\n",
    "    \"Course\" : \"PH.D\"\n",
    "}\n",
    "print(len(Students))\n",
    "\n"
   ]
  },
  {
   "cell_type": "code",
   "execution_count": null,
   "id": "6a86759f",
   "metadata": {},
   "outputs": [
    {
     "name": "stdout",
     "output_type": "stream",
     "text": [
      "{'brand': 'Ford', 'electric': 'False', 'year': '1994', 'colours': ['red', 'white', 'green']}\n"
     ]
    }
   ],
   "source": [
    "#Data types\n",
    "thisdict = {\n",
    "    \"brand\" : \"Ford\",\n",
    "    \"electric\" : \"False\",\n",
    "    \"year\" : \"1994\", \n",
    "    \"colours\" : [\"red\",\"white\",\"green\"]  \n",
    "}\n",
    "print(thisdict)"
   ]
  },
  {
   "cell_type": "code",
   "execution_count": null,
   "id": "7e03b55c",
   "metadata": {},
   "outputs": [
    {
     "name": "stdout",
     "output_type": "stream",
     "text": [
      "dict_keys(['brand', 'model', 'year'])\n",
      "dict_keys(['brand', 'model', 'year', 'color'])\n"
     ]
    }
   ],
   "source": [
    "#Getting keys\n",
    "car = {\n",
    "    \"brand\": \"Ford\" ,\n",
    "     \"model\": \"Mustang\",\n",
    "     \"year\": \"1964\"\n",
    "}\n",
    "x=car.keys()\n",
    "print(x)\n",
    "car[\"color\"] = \"white\"\n",
    "print(x)\n"
   ]
  },
  {
   "cell_type": "code",
   "execution_count": null,
   "id": "680699e4",
   "metadata": {},
   "outputs": [
    {
     "name": "stdout",
     "output_type": "stream",
     "text": [
      "dict_keys(['brand', 'model', 'year'])\n",
      "dict_keys(['brand', 'model', 'year'])\n"
     ]
    }
   ],
   "source": [
    "#Get values\n",
    "car = {\n",
    "    \"brand\": \"Ford\" ,\n",
    "     \"model\": \"Mustang\",\n",
    "     \"year\": \"1964\"\n",
    "}\n",
    "x=car.keys()\n",
    "print(x)\n",
    "car[\"year\"] = 2020\n",
    "print(x)\n"
   ]
  },
  {
   "cell_type": "code",
   "execution_count": null,
   "id": "91cc02ec",
   "metadata": {},
   "outputs": [
    {
     "name": "stdout",
     "output_type": "stream",
     "text": [
      "{'brand': 'Ford', 'model': 'Mustang', 'year': '1964'}\n",
      "{'brand': 'Ford', 'model': 'Mustang', 'year': 2016}\n"
     ]
    }
   ],
   "source": [
    "#updating a dictonary\n",
    "thisdict = {\n",
    "    \"brand\": \"Ford\" ,\n",
    "     \"model\": \"Mustang\",\n",
    "     \"year\": \"1964\"\n",
    "}\n",
    "print(thisdict)\n",
    "thisdict.update({\"year\" : 2016})\n",
    "print(thisdict)\n"
   ]
  },
  {
   "cell_type": "code",
   "execution_count": null,
   "id": "6041bc81",
   "metadata": {},
   "outputs": [
    {
     "name": "stdout",
     "output_type": "stream",
     "text": [
      "{'brand': 'Ford', 'model': 'Mustang', 'year': '1964'}\n",
      "{'brand': 'Ford', 'model': 'Mustang', 'year': '1964', 'color': 'red'}\n"
     ]
    }
   ],
   "source": [
    "#adding items in a dictionary\n",
    "thisdict = {\n",
    "    \"brand\": \"Ford\" ,\n",
    "     \"model\": \"Mustang\",\n",
    "     \"year\": \"1964\"\n",
    "}\n",
    "print(thisdict)\n",
    "thisdict[\"color\"] = \"red\"\n",
    "print(thisdict)\n"
   ]
  },
  {
   "cell_type": "code",
   "execution_count": null,
   "id": "2366b4ea",
   "metadata": {},
   "outputs": [
    {
     "name": "stdout",
     "output_type": "stream",
     "text": [
      "{'brand': 'Ford', 'year': '1964'}\n"
     ]
    }
   ],
   "source": [
    "#Using pop method to delete items\n",
    "thisdict = {\n",
    "    \"brand\": \"Ford\" ,\n",
    "     \"model\": \"Mustang\",\n",
    "     \"year\": \"1964\"\n",
    "}\n",
    "thisdict.pop(\"model\")\n",
    "print(thisdict)\n"
   ]
  },
  {
   "cell_type": "code",
   "execution_count": null,
   "id": "79ca38b1",
   "metadata": {},
   "outputs": [
    {
     "name": "stdout",
     "output_type": "stream",
     "text": [
      "{'brand': 'Ford', 'model': 'Mustang'}\n"
     ]
    }
   ],
   "source": [
    "#using pop method to remove the last item\n",
    "thisdict = {\n",
    "    \"brand\": \"Ford\" ,\n",
    "     \"model\": \"Mustang\",\n",
    "     \"year\": \"1964\"\n",
    "}\n",
    "thisdict.popitem()\n",
    "print(thisdict)\n"
   ]
  },
  {
   "cell_type": "code",
   "execution_count": null,
   "id": "21f6434e",
   "metadata": {},
   "outputs": [
    {
     "name": "stdout",
     "output_type": "stream",
     "text": [
      "{'brand': 'Ford', 'model': 'Mustang', 'year': '1964', 'color': 'red', 'price': 20000, 'weight': 1500, 'type': 'sedan'}\n"
     ]
    }
   ],
   "source": [
    "#creating a copy of a dictionary\n",
    "thisdict ={\n",
    "    \"brand\": \"Ford\" ,\n",
    "     \"model\": \"Mustang\",\n",
    "     \"year\": \"1964\",\n",
    "     \"color\": \"red\",\n",
    "    \"price\": 20000,\n",
    "    \"weight\": 1500,\n",
    "    \"type\": \"sedan\"\n",
    "\n",
    "}\n",
    "newdict = thisdict.copy()\n",
    "print(newdict)"
   ]
  },
  {
   "cell_type": "code",
   "execution_count": null,
   "id": "1b8eeefb",
   "metadata": {},
   "outputs": [
    {
     "name": "stdout",
     "output_type": "stream",
     "text": [
      "Common fruits liked by both persons: {'mango', 'banana'}\n",
      "Unique fruits liked by person 1: {'apple', 'grapes'}\n",
      "Unique fruits liked by person 2: {'orange', 'kiwi'}\n"
     ]
    }
   ],
   "source": [
    "#Richard Muthengi 674466\n",
    "#5.Come up with your own real world mini- problem involving sets\n",
    "\n",
    "# Problem: I have a set of fruits liked by two people, and i want to know the fruit that is more likeable by both of them.\n",
    "fruits_person1 = {\"apple\", \"grapes\", \"banana\", \"mango\"}\n",
    "fruits_person2 ={\"mango\", \"orange\", \"banana\", \"kiwi\"}\n",
    "#Performing at least two set operations to find to find  the common fruits and the unique fruits liked by each person\n",
    "common_fruits = fruits_person1.intersection(fruits_person2)\n",
    "unique_fruits_person1 = fruits_person1.difference(fruits_person2)\n",
    "unique_fruits_person2 = fruits_person2.difference(fruits_person1)\n",
    "print(\"Common fruits liked by both persons:\", common_fruits)\n",
    "print(\"Unique fruits liked by person 1:\", unique_fruits_person1)\n",
    "print(\"Unique fruits liked by person 2:\", unique_fruits_person2)\n"
   ]
  },
  {
   "cell_type": "code",
   "execution_count": null,
   "id": "59a6e161",
   "metadata": {},
   "outputs": [],
   "source": [
    "#Performing at least two set operations to find to find  the common fruits and the unique fruits liked by each person\n",
    "common_fruits = fruits_person1.intersection(fruits_person2)\n",
    "unique_fruits_person1 = fruits_person1.difference(fruits_person2)\n",
    "unique_fruits_person2 = fruits_person2.difference(fruits_person1)"
   ]
  },
  {
   "cell_type": "code",
   "execution_count": null,
   "id": "72c988e9",
   "metadata": {},
   "outputs": [
    {
     "name": "stdout",
     "output_type": "stream",
     "text": [
      "b is equal to a\n"
     ]
    }
   ],
   "source": [
    "#if else\n",
    "a=5\n",
    "b=500\n",
    "if a > b:\n",
    "    print(\"a is greater than b\")\n",
    "else:\n",
    "    print(\"b is greater than a\")\n"
   ]
  },
  {
   "cell_type": "code",
   "execution_count": null,
   "id": "2d0d5817",
   "metadata": {},
   "outputs": [
    {
     "name": "stdout",
     "output_type": "stream",
     "text": [
      "a is greater than b\n"
     ]
    }
   ],
   "source": [
    "#elif\n",
    "a=900\n",
    "b=500\n",
    "if a > b:\n",
    "    print(\"a is greater than b\")\n",
    "elif a == b:\n",
    "    print(\"a is equal to b\")    "
   ]
  },
  {
   "cell_type": "code",
   "execution_count": null,
   "id": "264f1306",
   "metadata": {},
   "outputs": [
    {
     "name": "stdout",
     "output_type": "stream",
     "text": [
      "a is greater than b\n"
     ]
    }
   ],
   "source": [
    "#else\n",
    "a=900\n",
    "b=500\n",
    "if a > b:\n",
    "    print(\"a is greater than b\")\n",
    "elif a == b:\n",
    "    print(\"a is equal to b\")    \n",
    "else:\n",
    "    print(\"b is greater than a\")\n",
    "\n"
   ]
  },
  {
   "cell_type": "code",
   "execution_count": null,
   "id": "1408f426",
   "metadata": {},
   "outputs": [
    {
     "name": "stdout",
     "output_type": "stream",
     "text": [
      "a is greater than b\n"
     ]
    }
   ],
   "source": [
    "#short hand if\n",
    "a=500\n",
    "b=50\n",
    "if a> b: print(\"a is greater than b\")\n"
   ]
  },
  {
   "cell_type": "code",
   "execution_count": null,
   "id": "3ffd3cad",
   "metadata": {},
   "outputs": [
    {
     "name": "stdout",
     "output_type": "stream",
     "text": [
      "a is greater than b\n"
     ]
    }
   ],
   "source": [
    "#short hand if else\n",
    "a=500\n",
    "b=50\n",
    "print(\"a is greater than b\") if a > b else print(\"b is greater than a\")"
   ]
  },
  {
   "cell_type": "code",
   "execution_count": null,
   "id": "a35437f2",
   "metadata": {},
   "outputs": [
    {
     "name": "stdout",
     "output_type": "stream",
     "text": [
      "Both conditions are true\n"
     ]
    }
   ],
   "source": [
    "#and statement\n",
    "a = 500\n",
    "b = 50\n",
    "c = 1000\n",
    "if a > b and c > a:\n",
    "    print(\"Both conditions are true\")"
   ]
  },
  {
   "cell_type": "code",
   "execution_count": null,
   "id": "f3467a2f",
   "metadata": {},
   "outputs": [
    {
     "name": "stdout",
     "output_type": "stream",
     "text": [
      "At least one condition is true\n"
     ]
    }
   ],
   "source": [
    "# or statement\n",
    "a = 50\n",
    "b = 50\n",
    "c =100\n",
    "if a > b or c > a:\n",
    "    print(\"At least one condition is true\")\n",
    "    "
   ]
  },
  {
   "cell_type": "code",
   "execution_count": null,
   "id": "d963ba91",
   "metadata": {},
   "outputs": [],
   "source": [
    "#pass statemnt\n",
    "a =33\n",
    "b =200\n",
    "if b > a:\n",
    "    pass"
   ]
  },
  {
   "cell_type": "code",
   "execution_count": null,
   "id": "e11fd837",
   "metadata": {},
   "outputs": [
    {
     "name": "stdout",
     "output_type": "stream",
     "text": [
      "x is greater than 10\n",
      "y is greater than or equal to 5\n"
     ]
    }
   ],
   "source": [
    "#nested if\n",
    "x = 50\n",
    "y = 10\n",
    "if x >10:\n",
    "    print(\"x is greater than 10\")\n",
    "    if y < 5:\n",
    "        print(\"y is greater than 5\")\n",
    "    else:\n",
    "        print(\"y is greater than or equal to 5\")"
   ]
  },
  {
   "cell_type": "code",
   "execution_count": null,
   "id": "28f74336",
   "metadata": {},
   "outputs": [
    {
     "name": "stdout",
     "output_type": "stream",
     "text": [
      "The number is positive\n"
     ]
    }
   ],
   "source": [
    "# checks if number is positive, negative or zero\n",
    "num=float(input(\"Enter a mumber: \"))\n",
    "if num > 0:\n",
    "    if num == 0:\n",
    "        print(\"The number is zero\")\n",
    "    else:\n",
    "        print(\"The number is positive\")\n",
    "else:\n",
    "    print(\"The number is negative\")\n",
    "\n",
    " "
   ]
  },
  {
   "cell_type": "code",
   "execution_count": null,
   "id": "579969b5",
   "metadata": {},
   "outputs": [
    {
     "name": "stdout",
     "output_type": "stream",
     "text": [
      "The first element is not greater than the second element\n"
     ]
    }
   ],
   "source": [
    "#if statement with lists\n",
    "\n",
    "list1 = [1, 2, 3, 4, 5]\n",
    "if list1[0] > list1[1]:\n",
    "    print(\"The first element is greater than the second element\")\n",
    "else:\n",
    "    print(\"The first element is not greater than the second element\")    "
   ]
  },
  {
   "cell_type": "code",
   "execution_count": null,
   "id": "15dd09d4",
   "metadata": {},
   "outputs": [
    {
     "name": "stdout",
     "output_type": "stream",
     "text": [
      "1\n",
      "2\n",
      "3\n",
      "4\n",
      "5\n"
     ]
    }
   ],
   "source": [
    "#while loop\n",
    "i= 1\n",
    "while i < 6:\n",
    "    print(i)\n",
    "    i += 1\n",
    "        "
   ]
  },
  {
   "cell_type": "code",
   "execution_count": null,
   "id": "ae487800",
   "metadata": {},
   "outputs": [
    {
     "name": "stdout",
     "output_type": "stream",
     "text": [
      "Richie\n",
      "Richie\n",
      "Richie\n",
      "Richie\n",
      "Richie\n",
      "Richie\n",
      "Richie\n"
     ]
    }
   ],
   "source": [
    "i = 1\n",
    "\n",
    "while i<8:\n",
    "    print(\"Richie\")\n",
    "    i+= 1\n"
   ]
  },
  {
   "cell_type": "code",
   "execution_count": null,
   "id": "5b30bed6",
   "metadata": {},
   "outputs": [
    {
     "name": "stdout",
     "output_type": "stream",
     "text": [
      "1\n",
      "2\n"
     ]
    }
   ],
   "source": [
    "#while loop with break\n",
    "i= 1\n",
    "while i < 6:\n",
    "    if i == 3:\n",
    "        break\n",
    "    print(i)\n",
    "    i += 1\n",
    "        "
   ]
  },
  {
   "cell_type": "code",
   "execution_count": null,
   "id": "f4135bcc",
   "metadata": {},
   "outputs": [
    {
     "name": "stdout",
     "output_type": "stream",
     "text": [
      "1\n",
      "2\n",
      "4\n",
      "5\n"
     ]
    }
   ],
   "source": [
    "#while loop with continue\n",
    "i= 1\n",
    "while i < 6:\n",
    "    if i == 3:\n",
    "        i += 1\n",
    "        continue\n",
    "    print(i)\n",
    "    i += 1\n"
   ]
  },
  {
   "cell_type": "code",
   "execution_count": null,
   "id": "5507534d",
   "metadata": {},
   "outputs": [
    {
     "name": "stdout",
     "output_type": "stream",
     "text": [
      "1\n",
      "2\n",
      "3\n",
      "4\n",
      "5\n",
      "i is no longer less than 6\n"
     ]
    }
   ],
   "source": [
    "#while loop with else\n",
    "i = 1\n",
    "while i < 6:\n",
    "    print(i)\n",
    "    i += 1\n",
    "else:\n",
    "    print(\"i is no longer less than 6\")"
   ]
  },
  {
   "cell_type": "code",
   "execution_count": null,
   "id": "632d97b0",
   "metadata": {},
   "outputs": [
    {
     "name": "stdout",
     "output_type": "stream",
     "text": [
      "Found the number 5 at index 1\n"
     ]
    }
   ],
   "source": [
    "#while loop with a list\n",
    "list = [4, 5, 6, 7, 8, 9]\n",
    "i = 0\n",
    "s = 5\n",
    "found = False\n",
    "while i < len(list):\n",
    "    if list[i] == s:\n",
    "        print(\"Found the number 5 at index\", i)\n",
    "        found = True\n",
    "        break\n",
    "    i += 1\n",
    "if not found:\n",
    "    print(\"Number 5 is not in the list\")"
   ]
  },
  {
   "cell_type": "code",
   "execution_count": null,
   "id": "cb7bba4d",
   "metadata": {},
   "outputs": [
    {
     "name": "stdout",
     "output_type": "stream",
     "text": [
      "apple\n",
      "banana\n",
      "cherry\n",
      "orange\n",
      "kiwi\n",
      "grape\n"
     ]
    }
   ],
   "source": [
    "#For loop\n",
    "fruits = [\"apple\", \"banana\", \"cherry\", \"orange\", \"kiwi\", \"grape\"]   \n",
    "for fruit in fruits:\n",
    "    print(fruit)"
   ]
  },
  {
   "cell_type": "code",
   "execution_count": null,
   "id": "9e1338c2",
   "metadata": {},
   "outputs": [
    {
     "name": "stdout",
     "output_type": "stream",
     "text": [
      "b\n",
      "a\n",
      "n\n",
      "a\n",
      "n\n",
      "a\n"
     ]
    }
   ],
   "source": [
    "#for loop through a letter\n",
    "for letter in \"banana\":\n",
    "    print(letter)"
   ]
  },
  {
   "cell_type": "code",
   "execution_count": null,
   "id": "0f55d8a0",
   "metadata": {},
   "outputs": [
    {
     "name": "stdout",
     "output_type": "stream",
     "text": [
      "apple\n",
      "banana\n"
     ]
    }
   ],
   "source": [
    "#Break statement\n",
    "fruits = [\"apple\", \"banana\", \"cherry\", \"orange\", \"kiwi\", \"grape\"]\n",
    "for x in fruits:\n",
    "    print (x)\n",
    "    if x==\"banana\":\n",
    "        break\n",
    "    "
   ]
  },
  {
   "cell_type": "code",
   "execution_count": null,
   "id": "f596923f",
   "metadata": {},
   "outputs": [
    {
     "name": "stdout",
     "output_type": "stream",
     "text": [
      "apple\n",
      "banana\n",
      "cherry\n",
      "orange\n"
     ]
    }
   ],
   "source": [
    "#Continue statement\n",
    "friuts = [\"apple\", \"banana\", \"cherry\", \"kiwi\", \"orange\"]\n",
    "for x in friuts:\n",
    "    if x == \"kiwi\":\n",
    "        continue\n",
    "    print(x)"
   ]
  },
  {
   "cell_type": "code",
   "execution_count": null,
   "id": "c5a1684b",
   "metadata": {},
   "outputs": [
    {
     "name": "stdout",
     "output_type": "stream",
     "text": [
      "apple\n",
      "cherry\n"
     ]
    }
   ],
   "source": [
    "fruits = [\"apple\", \"banana\", \"cherry\"]\n",
    "for x in fruits:\n",
    "    if x== \"banana\":\n",
    "        continue\n",
    "    print(x)"
   ]
  },
  {
   "cell_type": "code",
   "execution_count": null,
   "id": "bee6dc8e",
   "metadata": {},
   "outputs": [
    {
     "name": "stdout",
     "output_type": "stream",
     "text": [
      "0\n",
      "1\n",
      "2\n",
      "3\n",
      "4\n",
      "5\n"
     ]
    }
   ],
   "source": [
    "#range function\n",
    "for i in range(6):\n",
    "    print(i)"
   ]
  },
  {
   "cell_type": "code",
   "execution_count": null,
   "id": "6a1170ba",
   "metadata": {},
   "outputs": [
    {
     "name": "stdout",
     "output_type": "stream",
     "text": [
      "2\n",
      "3\n",
      "4\n",
      "5\n"
     ]
    }
   ],
   "source": [
    "#range wuth start and end \n",
    "for i in range(2, 6):\n",
    "    print(i)"
   ]
  },
  {
   "cell_type": "code",
   "execution_count": null,
   "id": "2738c0bf",
   "metadata": {},
   "outputs": [
    {
     "name": "stdout",
     "output_type": "stream",
     "text": [
      "2\n",
      "5\n",
      "8\n",
      "11\n",
      "14\n",
      "17\n",
      "20\n",
      "23\n",
      "26\n",
      "29\n"
     ]
    }
   ],
   "source": [
    "#range with start, end and step\n",
    "for i in range(2, 30, 3):\n",
    "    print(i)\n"
   ]
  },
  {
   "cell_type": "code",
   "execution_count": null,
   "id": "936b2910",
   "metadata": {},
   "outputs": [
    {
     "name": "stdout",
     "output_type": "stream",
     "text": [
      "red apple\n",
      "red banana\n",
      "red cherry\n",
      "big apple\n",
      "big banana\n",
      "big cherry\n",
      "tasty apple\n",
      "tasty banana\n",
      "tasty cherry\n"
     ]
    }
   ],
   "source": [
    "#nested for loop\n",
    "adj = [\"red\", \"big\", \"tasty\"]\n",
    "fruits = [\"apple\", \"banana\", \"cherry\"]\n",
    "for x in adj:\n",
    "    for y in fruits:\n",
    "        print(x, y)"
   ]
  },
  {
   "cell_type": "code",
   "execution_count": null,
   "id": "a6b4852f",
   "metadata": {},
   "outputs": [],
   "source": []
  },
  {
   "cell_type": "code",
   "execution_count": null,
   "id": "c801a868",
   "metadata": {},
   "outputs": [
    {
     "name": "stdout",
     "output_type": "stream",
     "text": [
      "the number is positive\n"
     ]
    }
   ],
   "source": [
    "# A program that checks if a number is positive, negative or zero\n",
    "num = float(input(\"Enter number: \"))\n",
    "if num > 0:\n",
    "    print(\"the number is positive\")\n",
    "elif num == 0:\n",
    "    print(\"the number is zero\")\n",
    "else:\n",
    "    print(\"the number is negative\")\n",
    "\n"
   ]
  },
  {
   "cell_type": "code",
   "execution_count": null,
   "id": "7a57cef4",
   "metadata": {},
   "outputs": [
    {
     "name": "stdout",
     "output_type": "stream",
     "text": [
      "I love Python\n"
     ]
    }
   ],
   "source": [
    "#Functions\n",
    "def fun():\n",
    "    print(\"I love Python\")\n",
    "#Calling the function\n",
    "fun()"
   ]
  },
  {
   "cell_type": "code",
   "execution_count": null,
   "id": "64fe4b84",
   "metadata": {},
   "outputs": [
    {
     "name": "stdout",
     "output_type": "stream",
     "text": [
      "Even\n"
     ]
    }
   ],
   "source": [
    "#Arguments in a function\n",
    "def evenOdd(x=10):\n",
    "    if(x%2 == 0):\n",
    "        print(\"Even\")\n",
    "    else:\n",
    "        print(\"Odd\")\n",
    "#Driver code to call the function\n",
    "evenOdd()"
   ]
  },
  {
   "cell_type": "code",
   "execution_count": null,
   "id": "9ffcca66",
   "metadata": {},
   "outputs": [
    {
     "name": "stdout",
     "output_type": "stream",
     "text": [
      "x: 10\n",
      "y: 50\n"
     ]
    }
   ],
   "source": [
    "#Default arguments\n",
    "def myFun(x,y=50):\n",
    "    print(\"x:\", x)\n",
    "    print(\"y:\", y)\n",
    "#Driver code (We call myFun()with only argument)\n",
    "myFun(10)    "
   ]
  },
  {
   "cell_type": "code",
   "execution_count": null,
   "id": "fd426706",
   "metadata": {},
   "outputs": [
    {
     "name": "stdout",
     "output_type": "stream",
     "text": [
      "Geeks Practice\n",
      "Practice Geeks\n"
     ]
    }
   ],
   "source": [
    "#Keyword arguments\n",
    "def student(firstname, lastname):\n",
    "    print(firstname, lastname)\n",
    "#Keyword arguments\n",
    "student(firstname=\"Geeks\", lastname= \"Practice\")\n",
    "student(firstname=\"Practice\", lastname=\"Geeks\")\n",
    "\n"
   ]
  },
  {
   "cell_type": "code",
   "execution_count": null,
   "id": "2383492d",
   "metadata": {},
   "outputs": [
    {
     "name": "stdout",
     "output_type": "stream",
     "text": [
      "4\n",
      "16\n"
     ]
    }
   ],
   "source": [
    "#Return statement\n",
    "def square_value(num):\n",
    "    \"\"\"This function returns the square value of the entered number\"\"\" \n",
    "    return num**2\n",
    "print(square_value(2))\n",
    "print(square_value(-4))"
   ]
  },
  {
   "cell_type": "code",
   "execution_count": null,
   "id": "7e688328",
   "metadata": {},
   "outputs": [
    {
     "name": "stdout",
     "output_type": "stream",
     "text": [
      "apple\n",
      "banana\n",
      "cherry\n"
     ]
    }
   ],
   "source": [
    "#Return statement with a list\n",
    "def my_function(food):\n",
    "    for x in food:\n",
    "        print(x)\n",
    "fruits = [\"apple\", \"banana\", \"cherry\"]\n",
    "my_function(fruits)"
   ]
  },
  {
   "cell_type": "code",
   "execution_count": null,
   "id": "621bdef4",
   "metadata": {},
   "outputs": [
    {
     "name": "stdout",
     "output_type": "stream",
     "text": [
      "I love python programming\n"
     ]
    }
   ],
   "source": [
    "#File handling \n",
    "file1 = open(\"myfile.txt\", \"r\")  \n",
    "\n",
    "#Reading the file\n",
    "print(file1.read())\n",
    "\n",
    "#Closing the file\n",
    "file1.close()\n"
   ]
  },
  {
   "cell_type": "code",
   "execution_count": null,
   "id": "c2f905be",
   "metadata": {},
   "outputs": [],
   "source": [
    "#Open function to open the file \"myfile.txt\"\n",
    "file1 = open(\"myfile.txt\", \"a\")\n",
    "\n",
    "#Writing to the file\n",
    "file1.write(\"\\nTuples,sets and lists.\")\n",
    "\n",
    "#Closing the file\n",
    "file1.close()\n"
   ]
  },
  {
   "cell_type": "code",
   "execution_count": null,
   "id": "ac9fcc2f",
   "metadata": {},
   "outputs": [
    {
     "name": "stdout",
     "output_type": "stream",
     "text": [
      "I lov\n"
     ]
    }
   ],
   "source": [
    "#Reading only the first five characters of the file\n",
    "f = open(\"myfile.txt\", \"r\")\n",
    "print(f.read(5))"
   ]
  },
  {
   "cell_type": "code",
   "execution_count": null,
   "id": "3555b7b1",
   "metadata": {},
   "outputs": [
    {
     "name": "stdout",
     "output_type": "stream",
     "text": [
      "I love python programming\n",
      "\n"
     ]
    }
   ],
   "source": [
    "#Read lines\n",
    "f =open(\"myfile.txt\", \"r\")\n",
    "print(f.readline())"
   ]
  },
  {
   "cell_type": "code",
   "execution_count": null,
   "id": "dbb05756",
   "metadata": {},
   "outputs": [
    {
     "ename": "PermissionError",
     "evalue": "[WinError 32] The process cannot access the file because it is being used by another process: 'myfile.txt'",
     "output_type": "error",
     "traceback": [
      "\u001b[31m---------------------------------------------------------------------------\u001b[39m",
      "\u001b[31mPermissionError\u001b[39m                           Traceback (most recent call last)",
      "\u001b[36mCell\u001b[39m\u001b[36m \u001b[39m\u001b[32mIn[5]\u001b[39m\u001b[32m, line 4\u001b[39m\n\u001b[32m      2\u001b[39m \u001b[38;5;28;01mimport\u001b[39;00m\u001b[38;5;250m \u001b[39m\u001b[34;01mos\u001b[39;00m\n\u001b[32m      3\u001b[39m \u001b[38;5;28;01mif\u001b[39;00m os.path.exists(\u001b[33m\"\u001b[39m\u001b[33mmyfile.txt\u001b[39m\u001b[33m\"\u001b[39m):\n\u001b[32m----> \u001b[39m\u001b[32m4\u001b[39m     \u001b[43mos\u001b[49m\u001b[43m.\u001b[49m\u001b[43mremove\u001b[49m\u001b[43m(\u001b[49m\u001b[33;43m\"\u001b[39;49m\u001b[33;43mmyfile.txt\u001b[39;49m\u001b[33;43m\"\u001b[39;49m\u001b[43m)\u001b[49m\n",
      "\u001b[31mPermissionError\u001b[39m: [WinError 32] The process cannot access the file because it is being used by another process: 'myfile.txt'"
     ]
    }
   ],
   "source": [
    "#Deleting a file \n",
    "import os\n",
    "if os.path.exists(\"myfile.txt\"):\n",
    "    os.remove(\"myfile.txt\")"
   ]
  },
  {
   "cell_type": "code",
   "execution_count": null,
   "id": "c996bbe8",
   "metadata": {},
   "outputs": [
    {
     "name": "stdout",
     "output_type": "stream",
     "text": [
      "0.0\n"
     ]
    }
   ],
   "source": [
    "#Zero division error\n",
    "a = input(\"Enter a\")\n",
    "b = input(\"Enter b\")\n",
    "try:\n",
    "\tc = float(a) / float(b)\n",
    "\tprint(c)\n",
    "except ZeroDivisionError:\n",
    "\tprint(\"Error: Division by zero is not allowed.\")\n",
    "except ValueError:\n",
    "\tprint(\"Error: Please enter valid numbers.\")\n",
    " "
   ]
  },
  {
   "cell_type": "code",
   "execution_count": null,
   "id": "ba5448a3",
   "metadata": {},
   "outputs": [
    {
     "name": "stdout",
     "output_type": "stream",
     "text": [
      "Cant divide with xero\n"
     ]
    }
   ],
   "source": [
    "#Exception handling with try and except\n",
    "try:\n",
    "    a = int(input(\"Enter a number a\"))\n",
    "    b = int(input(\"Enter another number b\"))\n",
    "    c = a / b\n",
    "except:\n",
    "    print(\"Cant divide with xero\")    \n",
    "      "
   ]
  },
  {
   "cell_type": "code",
   "execution_count": null,
   "id": "e2770046",
   "metadata": {},
   "outputs": [
    {
     "name": "stdout",
     "output_type": "stream",
     "text": [
      "Can't divide by zero\n"
     ]
    }
   ],
   "source": [
    "#Try except and else\n",
    "try:\n",
    "    a = int(input(\"Enter a number a: \"))\n",
    "    b = int(input(\"Enter another number b: \"))\n",
    "    c = a / b\n",
    "except ZeroDivisionError:\n",
    "    print(\"Can't divide by zero\")\n",
    "except Exception as e:\n",
    "    print(\"An error occurred:\", e)\n",
    "else:\n",
    "    print(f\"a/b = {c}\")\n",
    "    print(\"Hi I am else block\")"
   ]
  },
  {
   "cell_type": "code",
   "execution_count": null,
   "id": "fb82994c",
   "metadata": {},
   "outputs": [
    {
     "name": "stdout",
     "output_type": "stream",
     "text": [
      "File not found\n"
     ]
    }
   ],
   "source": [
    "try:\n",
    "    file1 = open(\"file.txt\", \"r\")\n",
    "except IOError:\n",
    "    print(\"File not found\")\n",
    "else:\n",
    "    print(\"The file opened successfully\")\n",
    "    file1.close()"
   ]
  },
  {
   "cell_type": "code",
   "execution_count": null,
   "id": "cfbb92e3",
   "metadata": {},
   "outputs": [
    {
     "name": "stdout",
     "output_type": "stream",
     "text": [
      "arithmetic or IO Exception\n"
     ]
    }
   ],
   "source": [
    "#Declaring multiple exceptions\n",
    "try:\n",
    "    file = open(\"text.txt\")\n",
    "    a = 10 / 0\n",
    "except (ArithmeticError, IOError):\n",
    "    print(\"arithmetic or IO Exception\")\n",
    "except Exception:\n",
    "    print(\"no error Exception\")\n",
    "else:\n",
    "    print(\"Successfully Done\")"
   ]
  },
  {
   "cell_type": "code",
   "execution_count": null,
   "id": "4e461fb6",
   "metadata": {},
   "outputs": [
    {
     "name": "stdout",
     "output_type": "stream",
     "text": [
      "Error\n"
     ]
    }
   ],
   "source": [
    "#the try...finally block\n",
    "try:\n",
    "    file = open(\"file2.txt\", \"r\")\n",
    "    try:\n",
    "        file.write(\"Hi I am good\")\n",
    "    finally:\n",
    "        file.close()\n",
    "        print(\"File close\")\n",
    "except Exception as e:\n",
    "    print(\"Error\")"
   ]
  },
  {
   "cell_type": "code",
   "execution_count": null,
   "id": "2aa7736c",
   "metadata": {},
   "outputs": [
    {
     "name": "stdout",
     "output_type": "stream",
     "text": [
      "    ID                   Course    Name  Gender  Age\n",
      "0  667             Data Science   Brian    Male   18\n",
      "1  856  International Relations    Ally  Female   19\n",
      "2  322               Pshycology  Benson    Male   20\n"
     ]
    }
   ],
   "source": [
    "#Reading a csv file\n",
    "import csv\n",
    "with open(r\"C:\\Users\\RICHARD\\OneDrive\\Desktop\\Students2.csv\") as csvfile:\n",
    "    m=list(csv.Dict)\n",
    "    for row in reader:\n",
    "        print(row)"
   ]
  },
  {
   "cell_type": "code",
   "execution_count": null,
   "id": "07cd4a60",
   "metadata": {},
   "outputs": [
    {
     "name": "stdout",
     "output_type": "stream",
     "text": [
      "[['ID', 'Course', 'Name', 'Gender', 'Age'], ['667', 'Data Science', 'Brian', 'Male', '18'], ['856', 'International Relations', 'Ally', 'Female', '19']]\n"
     ]
    }
   ],
   "source": [
    "#Using reader() class:\n",
    "import csv\n",
    "with open(r\"C:\\Users\\RICHARD\\OneDrive\\Desktop\\Students2.csv\") as csvfile:\n",
    "    m = list(csv.reader(csvfile))\n",
    "print(m[:3])"
   ]
  },
  {
   "cell_type": "code",
   "execution_count": null,
   "id": "9741ea2f",
   "metadata": {},
   "outputs": [],
   "source": [
    "#Writing a CSV file\n",
    "import csv\n",
    "with open(r\"C:\\Users\\RICHARD\\OneDrive\\Desktop\\Students2.csv\",'w', newline='') as csvfile:\n",
    "    fieldnames = [\"ID\", \"Course\", \"Name\", \"Gender\", \"Age\"]\n",
    "    writer = csv.DictWriter(csvfile, fieldnames=fieldnames)\n",
    "\n",
    "    writer.writeheader()\n",
    "    writer.writerow({\"ID\":454, \"Course\":\"IST\", \"Name\":\"Eva\",\"Gender\":\"Female\", \"Age\": 20})\n",
    "    writer.writerow({\"ID\":343, \"Course\":\"Journalism\", \"Name\":\"Jane\", \"Gender\":\"Female\",\"Age\": 22})"
   ]
  },
  {
   "cell_type": "markdown",
   "id": "bf46c2cc",
   "metadata": {},
   "source": []
  },
  {
   "cell_type": "code",
   "execution_count": null,
   "id": "01ec9af3",
   "metadata": {},
   "outputs": [
    {
     "data": {
      "text/html": [
       "<div>\n",
       "<style scoped>\n",
       "    .dataframe tbody tr th:only-of-type {\n",
       "        vertical-align: middle;\n",
       "    }\n",
       "\n",
       "    .dataframe tbody tr th {\n",
       "        vertical-align: top;\n",
       "    }\n",
       "\n",
       "    .dataframe thead th {\n",
       "        text-align: right;\n",
       "    }\n",
       "</style>\n",
       "<table border=\"1\" class=\"dataframe\">\n",
       "  <thead>\n",
       "    <tr style=\"text-align: right;\">\n",
       "      <th></th>\n",
       "      <th>ID</th>\n",
       "      <th>Course</th>\n",
       "      <th>Name</th>\n",
       "      <th>Gender</th>\n",
       "      <th>Age</th>\n",
       "    </tr>\n",
       "  </thead>\n",
       "  <tbody>\n",
       "    <tr>\n",
       "      <th>0</th>\n",
       "      <td>667</td>\n",
       "      <td>Data Science</td>\n",
       "      <td>Brian</td>\n",
       "      <td>Male</td>\n",
       "      <td>18</td>\n",
       "    </tr>\n",
       "    <tr>\n",
       "      <th>1</th>\n",
       "      <td>856</td>\n",
       "      <td>International Relations</td>\n",
       "      <td>Ally</td>\n",
       "      <td>Female</td>\n",
       "      <td>19</td>\n",
       "    </tr>\n",
       "    <tr>\n",
       "      <th>2</th>\n",
       "      <td>322</td>\n",
       "      <td>Pshycology</td>\n",
       "      <td>Benson</td>\n",
       "      <td>Male</td>\n",
       "      <td>20</td>\n",
       "    </tr>\n",
       "    <tr>\n",
       "      <th>3</th>\n",
       "      <td>767</td>\n",
       "      <td>IST</td>\n",
       "      <td>Olandria</td>\n",
       "      <td>Female</td>\n",
       "      <td>21</td>\n",
       "    </tr>\n",
       "    <tr>\n",
       "      <th>4</th>\n",
       "      <td>223</td>\n",
       "      <td>Pharmacy</td>\n",
       "      <td>Nick</td>\n",
       "      <td>Male</td>\n",
       "      <td>22</td>\n",
       "    </tr>\n",
       "  </tbody>\n",
       "</table>\n",
       "</div>"
      ],
      "text/plain": [
       "    ID                   Course      Name  Gender  Age\n",
       "0  667             Data Science     Brian    Male   18\n",
       "1  856  International Relations      Ally  Female   19\n",
       "2  322               Pshycology    Benson    Male   20\n",
       "3  767                      IST  Olandria  Female   21\n",
       "4  223                 Pharmacy      Nick    Male   22"
      ]
     },
     "execution_count": 7,
     "metadata": {},
     "output_type": "execute_result"
    }
   ],
   "source": [
    "import pandas as pd\n",
    "\n",
    "df = pd.read_csv(r\"C:\\Users\\RICHARD\\OneDrive\\Desktop\\Students2.csv\")\n",
    "df.head()"
   ]
  },
  {
   "cell_type": "code",
   "execution_count": null,
   "id": "70972a37",
   "metadata": {},
   "outputs": [
    {
     "name": "stdout",
     "output_type": "stream",
     "text": [
      "['ID', 'Course', 'Name', 'Gender', 'Age']\n",
      "['454', 'IST', 'Eva', 'Female', '20']\n",
      "['343', 'Journalism', 'Jane', 'Female', '22']\n"
     ]
    }
   ],
   "source": [
    "#Looping through rows\n",
    "import csv\n",
    "f = open(r\"C:\\Users\\RICHARD\\OneDrive\\Desktop\\Students2.csv\", 'r')\n",
    "csv_f = csv.reader(f)\n",
    "for row in csv_f:\n",
    "    print(row)"
   ]
  },
  {
   "cell_type": "code",
   "execution_count": null,
   "id": "19b4a419",
   "metadata": {},
   "outputs": [
    {
     "name": "stdout",
     "output_type": "stream",
     "text": [
      "['Name']\n",
      "['Name', 'Eva']\n",
      "['Name', 'Eva', 'Jane']\n"
     ]
    }
   ],
   "source": [
    "import csv\n",
    "f = open(r\"C:\\Users\\RICHARD\\OneDrive\\Desktop\\Students2.csv\", 'r')\n",
    "csv_f = csv.reader(f)\n",
    "model_no = []\n",
    "for row in csv_f:\n",
    "    model_no.append(row[2])\n",
    "    print(model_no)"
   ]
  },
  {
   "cell_type": "code",
   "execution_count": null,
   "id": "47ece46c",
   "metadata": {},
   "outputs": [
    {
     "name": "stdout",
     "output_type": "stream",
     "text": [
      "Name\n",
      "Eva\n",
      "Jane\n"
     ]
    }
   ],
   "source": [
    "#Extracting information from Csv file\n",
    "import csv\n",
    "f = open(r\"C:\\Users\\RICHARD\\OneDrive\\Desktop\\Students2.csv\", 'r')\n",
    "csv_f =csv.reader(f)\n",
    "for row in csv_f:\n",
    "    print(row[2])"
   ]
  },
  {
   "cell_type": "code",
   "execution_count": null,
   "id": "ef16da4e",
   "metadata": {},
   "outputs": [],
   "source": [
    "#Converting lists to sets in CSV file\n",
    "import csv\n",
    "f = open(r\"C:\\Users\\RICHARD\\OneDrive\\Desktop\\Students2.csv\", 'r')\n",
    "model_no = []\n",
    "for row in csv_f:\n",
    "    model_no.append (row[2])\n",
    "    print(set(model_no))"
   ]
  },
  {
   "cell_type": "code",
   "execution_count": null,
   "id": "c8fe37ab",
   "metadata": {},
   "outputs": [
    {
     "data": {
      "text/plain": [
       "0    Richard\n",
       "1        Eva\n",
       "2       Mike\n",
       "3      Ethan\n",
       "dtype: object"
      ]
     },
     "execution_count": 7,
     "metadata": {},
     "output_type": "execute_result"
    }
   ],
   "source": [
    "import pandas as pd\n",
    "#Series\n",
    "names =[\"Richard\",\"Eva\",\"Mike\",\"Ethan\"]\n",
    "pd.Series(names)"
   ]
  },
  {
   "cell_type": "code",
   "execution_count": null,
   "id": "d0027c59",
   "metadata": {},
   "outputs": [
    {
     "data": {
      "text/plain": [
       "Student_1    Richard\n",
       "Student_2        Eva\n",
       "Student_3       Mike\n",
       "Student_4      Ethan\n",
       "dtype: object"
      ]
     },
     "execution_count": 9,
     "metadata": {},
     "output_type": "execute_result"
    }
   ],
   "source": [
    "#Specifying the index of a Series\n",
    "import pandas as pd\n",
    "names =[\"Richard\",\"Eva\",\"Mike\",\"Ethan\"]\n",
    "pd.Series(names, index=[\"Student_1\", \"Student_2\", \"Student_3\", \"Student_4\"])"
   ]
  },
  {
   "cell_type": "code",
   "execution_count": null,
   "id": "be87a49b",
   "metadata": {},
   "outputs": [
    {
     "data": {
      "text/plain": [
       "science         ram\n",
       "maths        shahid\n",
       "english    muthengi\n",
       "history     richard\n",
       "dtype: object"
      ]
     },
     "execution_count": 10,
     "metadata": {},
     "output_type": "execute_result"
    }
   ],
   "source": [
    "#Converting a dictionary into a series\n",
    "import pandas as pd\n",
    "books = {\n",
    "    \"science\":\"ram\",\n",
    "    \"maths\":\"shahid\",\n",
    "    \"english\":\"muthengi\",\n",
    "    \"history\":\"richard\"\n",
    "}\n",
    "pd.Series(books)\n"
   ]
  },
  {
   "cell_type": "code",
   "execution_count": null,
   "id": "31ac895d",
   "metadata": {},
   "outputs": [
    {
     "data": {
      "text/plain": [
       "Index(['science', 'maths', 'english', 'history'], dtype='object')"
      ]
     },
     "execution_count": 12,
     "metadata": {},
     "output_type": "execute_result"
    }
   ],
   "source": [
    "#Outputting the index\n",
    "import pandas as pd\n",
    "books = {\n",
    "    \"science\":\"ram\",\n",
    "    \"maths\":\"shahid\",\n",
    "    \"english\":\"muthengi\",\n",
    "    \"history\":\"richard\"\n",
    "}\n",
    "S = pd.Series(books)\n",
    "S.index\n"
   ]
  },
  {
   "cell_type": "code",
   "execution_count": null,
   "id": "11d21a8c",
   "metadata": {},
   "outputs": [
    {
     "data": {
      "text/plain": [
       "0    Richard\n",
       "1        Eva\n",
       "2       None\n",
       "dtype: object"
      ]
     },
     "execution_count": 13,
     "metadata": {},
     "output_type": "execute_result"
    }
   ],
   "source": [
    "#None\n",
    "import pandas as pd\n",
    "names = [\"Richard\", \"Eva\", None]\n",
    "pd.Series(names)"
   ]
  },
  {
   "cell_type": "code",
   "execution_count": null,
   "id": "4a0e6586",
   "metadata": {},
   "outputs": [
    {
     "data": {
      "text/plain": [
       "0    1.0\n",
       "1    2.0\n",
       "2    3.0\n",
       "3    NaN\n",
       "dtype: float64"
      ]
     },
     "execution_count": 14,
     "metadata": {},
     "output_type": "execute_result"
    }
   ],
   "source": [
    "#NaN\n",
    "import pandas as pd\n",
    "numbers = [1, 2, 3, None]\n",
    "pd.Series(numbers)"
   ]
  },
  {
   "cell_type": "code",
   "execution_count": null,
   "id": "39c74ef9",
   "metadata": {},
   "outputs": [
    {
     "data": {
      "text/plain": [
       "'Mike'"
      ]
     },
     "execution_count": 19,
     "metadata": {},
     "output_type": "execute_result"
    }
   ],
   "source": [
    "#Querying a Series\n",
    "#iloc \n",
    "import pandas as pd\n",
    "names = [\"Richard\", \"Eva\", \"Mike\", \"Ethan\"]\n",
    "S = pd.Series(names, index=[\"Student_1\", \"Student_2\", \"Student_3\", \"Student_4\"])\n",
    "S.iloc[2]\n",
    "\n"
   ]
  },
  {
   "cell_type": "code",
   "execution_count": null,
   "id": "109ce93b",
   "metadata": {},
   "outputs": [
    {
     "data": {
      "text/plain": [
       "'Eva'"
      ]
     },
     "execution_count": 20,
     "metadata": {},
     "output_type": "execute_result"
    }
   ],
   "source": [
    "#loc\n",
    "import pandas as pd\n",
    "names = [\"Richard\", \"Eva\", \"Mike\", \"Ethan\"]\n",
    "S = pd.Series(names, index=[\"Student_1\", \"Student_2\", \"Student_3\", \"Student_4\"])\n",
    "S.loc[\"Student_2\"]\n"
   ]
  },
  {
   "cell_type": "code",
   "execution_count": null,
   "id": "b95f6337",
   "metadata": {},
   "outputs": [
    {
     "name": "stdout",
     "output_type": "stream",
     "text": [
      "[(1, 'Alice', 25) (2, 'Bob', 30)]\n"
     ]
    }
   ],
   "source": [
    "#Structured arrays\n",
    "import numpy as np\n",
    "data = np.array([(1, 'Alice', 25), (2, 'Bob', 30)], dtype=[('id', 'i4'), ('name', 'U10'), ('age', 'i4')])\n",
    "print(data)\n"
   ]
  },
  {
   "cell_type": "code",
   "execution_count": null,
   "id": "63d6acc6",
   "metadata": {},
   "outputs": [
    {
     "name": "stdout",
     "output_type": "stream",
     "text": [
      "[[1 'Alice' 25]\n",
      " [2 'Bob' 30]]\n"
     ]
    }
   ],
   "source": [
    "#Unstructured arrays\n",
    "import numpy as np\n",
    "data = np.array([(1, 'Alice', 25), (2, 'Bob', 30)], dtype=object)\n",
    "print(data)"
   ]
  },
  {
   "cell_type": "code",
   "execution_count": null,
   "id": "af6b1cf1",
   "metadata": {},
   "outputs": [
    {
     "data": {
      "text/plain": [
       "DatetimeIndex(['2013-01-01', '2013-01-02', '2013-01-03', '2013-01-04',\n",
       "               '2013-01-05', '2013-01-06'],\n",
       "              dtype='datetime64[ns]', freq='D')"
      ]
     },
     "execution_count": 3,
     "metadata": {},
     "output_type": "execute_result"
    }
   ],
   "source": [
    "#Creating a dataframe\n",
    "import pandas as pd\n",
    "import numpy as np\n",
    "dates = pd.date_range('20130101', periods=6)\n",
    "dates\n"
   ]
  },
  {
   "cell_type": "code",
   "execution_count": null,
   "id": "0de1cb36",
   "metadata": {},
   "outputs": [
    {
     "name": "stdout",
     "output_type": "stream",
     "text": [
      "     A    B  C  D      E    F\n",
      "0  1.0  1.0  1  3   test  foo\n",
      "1  1.0  1.0  2  3  train  foo\n",
      "2  1.0  1.0  3  3   test  foo\n",
      "3  1.0  1.0  4  3  train  foo\n"
     ]
    }
   ],
   "source": [
    "#Creating a dataframe by passing a dict of objects that can be converted to series-like\n",
    "import numpy as np\n",
    "df = pd.DataFrame({\n",
    "\t\"A\": 1.,\n",
    "\t\"B\": pd.Series(1, index=list(range(4)), dtype='float32'),\n",
    "\t\"C\": pd.Series([1, 2, 3, 4], dtype='int32'),\n",
    "\t\"D\": np.array([3]*4, dtype='int32'),\n",
    "\t\"E\": pd.Categorical([\"test\", \"train\", \"test\", \"train\"]),\n",
    "\t\"F\": \"foo\"\n",
    "})\n",
    "\n",
    "print(df)"
   ]
  },
  {
   "cell_type": "code",
   "execution_count": null,
   "id": "0d2c148e",
   "metadata": {},
   "outputs": [
    {
     "data": {
      "text/html": [
       "<div>\n",
       "<style scoped>\n",
       "    .dataframe tbody tr th:only-of-type {\n",
       "        vertical-align: middle;\n",
       "    }\n",
       "\n",
       "    .dataframe tbody tr th {\n",
       "        vertical-align: top;\n",
       "    }\n",
       "\n",
       "    .dataframe thead th {\n",
       "        text-align: right;\n",
       "    }\n",
       "</style>\n",
       "<table border=\"1\" class=\"dataframe\">\n",
       "  <thead>\n",
       "    <tr style=\"text-align: right;\">\n",
       "      <th></th>\n",
       "      <th>Student</th>\n",
       "      <th>Purchase</th>\n",
       "      <th>Cost</th>\n",
       "    </tr>\n",
       "  </thead>\n",
       "  <tbody>\n",
       "    <tr>\n",
       "      <th>0</th>\n",
       "      <td>Monica</td>\n",
       "      <td>Pencil</td>\n",
       "      <td>30</td>\n",
       "    </tr>\n",
       "    <tr>\n",
       "      <th>1</th>\n",
       "      <td>John</td>\n",
       "      <td>Pen</td>\n",
       "      <td>20</td>\n",
       "    </tr>\n",
       "    <tr>\n",
       "      <th>2</th>\n",
       "      <td>Richard</td>\n",
       "      <td>Book</td>\n",
       "      <td>50</td>\n",
       "    </tr>\n",
       "  </tbody>\n",
       "</table>\n",
       "</div>"
      ],
      "text/plain": [
       "   Student Purchase  Cost\n",
       "0   Monica   Pencil    30\n",
       "1     John      Pen    20\n",
       "2  Richard     Book    50"
      ]
     },
     "execution_count": 9,
     "metadata": {},
     "output_type": "execute_result"
    }
   ],
   "source": [
    "#Dataframe Example\n",
    "import pandas as pd\n",
    "names=pd.Series({\"Student\":\"Monica\",\"Purchase\":\"Pencil\",\"Cost\":30})\n",
    "names_1=pd.Series({\"Student\":\"John\",\"Purchase\":\"Pen\",\"Cost\":20})\n",
    "names_2=pd.Series({\"Student\":\"Richard\",\"Purchase\":\"Book\",\"Cost\":50})\n",
    "df=pd.DataFrame([names, names_1, names_2])\n",
    "df.head()"
   ]
  },
  {
   "cell_type": "code",
   "execution_count": null,
   "id": "b7b45fc3",
   "metadata": {},
   "outputs": [
    {
     "data": {
      "text/html": [
       "<div>\n",
       "<style scoped>\n",
       "    .dataframe tbody tr th:only-of-type {\n",
       "        vertical-align: middle;\n",
       "    }\n",
       "\n",
       "    .dataframe tbody tr th {\n",
       "        vertical-align: top;\n",
       "    }\n",
       "\n",
       "    .dataframe thead th {\n",
       "        text-align: right;\n",
       "    }\n",
       "</style>\n",
       "<table border=\"1\" class=\"dataframe\">\n",
       "  <thead>\n",
       "    <tr style=\"text-align: right;\">\n",
       "      <th></th>\n",
       "      <th>Cost</th>\n",
       "      <th>Student</th>\n",
       "    </tr>\n",
       "  </thead>\n",
       "  <tbody>\n",
       "    <tr>\n",
       "      <th>0</th>\n",
       "      <td>30</td>\n",
       "      <td>Monica</td>\n",
       "    </tr>\n",
       "    <tr>\n",
       "      <th>1</th>\n",
       "      <td>20</td>\n",
       "      <td>John</td>\n",
       "    </tr>\n",
       "    <tr>\n",
       "      <th>2</th>\n",
       "      <td>50</td>\n",
       "      <td>Richard</td>\n",
       "    </tr>\n",
       "  </tbody>\n",
       "</table>\n",
       "</div>"
      ],
      "text/plain": [
       "   Cost  Student\n",
       "0    30   Monica\n",
       "1    20     John\n",
       "2    50  Richard"
      ]
     },
     "execution_count": 12,
     "metadata": {},
     "output_type": "execute_result"
    }
   ],
   "source": [
    "#Extracting values from a dataframe\n",
    "df[[\"Cost\", \"Student\"]]"
   ]
  },
  {
   "cell_type": "code",
   "execution_count": null,
   "id": "ea783584",
   "metadata": {},
   "outputs": [
    {
     "data": {
      "text/plain": [
       "Student     Richard\n",
       "Purchase       Book\n",
       "Cost             50\n",
       "Name: 2, dtype: object"
      ]
     },
     "execution_count": 15,
     "metadata": {},
     "output_type": "execute_result"
    }
   ],
   "source": [
    "#Extracting values from a dataframe\n",
    "# The DataFrame df does not have an index named \"shop 2\".\n",
    "# You can access rows by integer index, for example:\n",
    "df.loc[2]  # This will return the row with index 2 (Richard's purchase)\n"
   ]
  },
  {
   "cell_type": "code",
   "execution_count": null,
   "id": "147db1f0",
   "metadata": {},
   "outputs": [
    {
     "data": {
      "text/html": [
       "<div>\n",
       "<style scoped>\n",
       "    .dataframe tbody tr th:only-of-type {\n",
       "        vertical-align: middle;\n",
       "    }\n",
       "\n",
       "    .dataframe tbody tr th {\n",
       "        vertical-align: top;\n",
       "    }\n",
       "\n",
       "    .dataframe thead th {\n",
       "        text-align: right;\n",
       "    }\n",
       "</style>\n",
       "<table border=\"1\" class=\"dataframe\">\n",
       "  <thead>\n",
       "    <tr style=\"text-align: right;\">\n",
       "      <th></th>\n",
       "      <th>Student</th>\n",
       "      <th>Purchase</th>\n",
       "      <th>Cost</th>\n",
       "      <th>place</th>\n",
       "    </tr>\n",
       "  </thead>\n",
       "  <tbody>\n",
       "    <tr>\n",
       "      <th>0</th>\n",
       "      <td>Monica</td>\n",
       "      <td>Pencil</td>\n",
       "      <td>30</td>\n",
       "      <td>mall</td>\n",
       "    </tr>\n",
       "    <tr>\n",
       "      <th>1</th>\n",
       "      <td>John</td>\n",
       "      <td>Pen</td>\n",
       "      <td>20</td>\n",
       "      <td>rad</td>\n",
       "    </tr>\n",
       "    <tr>\n",
       "      <th>2</th>\n",
       "      <td>Richard</td>\n",
       "      <td>Book</td>\n",
       "      <td>50</td>\n",
       "      <td>chowk</td>\n",
       "    </tr>\n",
       "  </tbody>\n",
       "</table>\n",
       "</div>"
      ],
      "text/plain": [
       "   Student Purchase  Cost  place\n",
       "0   Monica   Pencil    30   mall\n",
       "1     John      Pen    20    rad\n",
       "2  Richard     Book    50  chowk"
      ]
     },
     "execution_count": 16,
     "metadata": {},
     "output_type": "execute_result"
    }
   ],
   "source": [
    "#extracting values from a dataframe\n",
    "df[\"place\"]=[\"mall\",\"rad\",\"chowk\"]\n",
    "df.head()"
   ]
  },
  {
   "cell_type": "code",
   "execution_count": null,
   "id": "f02b8304",
   "metadata": {},
   "outputs": [
    {
     "data": {
      "text/html": [
       "<div>\n",
       "<style scoped>\n",
       "    .dataframe tbody tr th:only-of-type {\n",
       "        vertical-align: middle;\n",
       "    }\n",
       "\n",
       "    .dataframe tbody tr th {\n",
       "        vertical-align: top;\n",
       "    }\n",
       "\n",
       "    .dataframe thead th {\n",
       "        text-align: right;\n",
       "    }\n",
       "</style>\n",
       "<table border=\"1\" class=\"dataframe\">\n",
       "  <thead>\n",
       "    <tr style=\"text-align: right;\">\n",
       "      <th></th>\n",
       "      <th>Name</th>\n",
       "      <th>Purchase</th>\n",
       "      <th>Price</th>\n",
       "      <th>place</th>\n",
       "    </tr>\n",
       "  </thead>\n",
       "  <tbody>\n",
       "    <tr>\n",
       "      <th>0</th>\n",
       "      <td>Monica</td>\n",
       "      <td>Pencil</td>\n",
       "      <td>30</td>\n",
       "      <td>mall</td>\n",
       "    </tr>\n",
       "    <tr>\n",
       "      <th>1</th>\n",
       "      <td>John</td>\n",
       "      <td>Pen</td>\n",
       "      <td>20</td>\n",
       "      <td>rad</td>\n",
       "    </tr>\n",
       "    <tr>\n",
       "      <th>2</th>\n",
       "      <td>Richard</td>\n",
       "      <td>Book</td>\n",
       "      <td>50</td>\n",
       "      <td>chowk</td>\n",
       "    </tr>\n",
       "  </tbody>\n",
       "</table>\n",
       "</div>"
      ],
      "text/plain": [
       "      Name Purchase  Price  place\n",
       "0   Monica   Pencil     30   mall\n",
       "1     John      Pen     20    rad\n",
       "2  Richard     Book     50  chowk"
      ]
     },
     "execution_count": 17,
     "metadata": {},
     "output_type": "execute_result"
    }
   ],
   "source": [
    "#Renaming columns in a dataframe\n",
    "df.rename(columns={\"Cost\": \"Price\", \"Student\": \"Name\"})"
   ]
  },
  {
   "cell_type": "code",
   "execution_count": null,
   "id": "151e942e",
   "metadata": {},
   "outputs": [
    {
     "data": {
      "text/plain": [
       "Index(['Name', 'Purchase', 'Price', 'place'], dtype='object')"
      ]
     },
     "execution_count": 18,
     "metadata": {},
     "output_type": "execute_result"
    }
   ],
   "source": [
    "#Inplace\n",
    "df.rename(columns={\"Cost\": \"Price\", \"Student\": \"Name\"}, inplace=True)\n",
    "df.columns"
   ]
  },
  {
   "cell_type": "code",
   "execution_count": null,
   "id": "61d97a65",
   "metadata": {},
   "outputs": [
    {
     "data": {
      "text/plain": [
       "Index(['Name', 'Purchase', 'Price', 'place'], dtype='object')"
      ]
     },
     "execution_count": 20,
     "metadata": {},
     "output_type": "execute_result"
    }
   ],
   "source": [
    "#Inplace false\n",
    "df.rename(columns={\"Cost\": \"Price\", \"Student\": \"Name\"}, inplace=False)  \n",
    "df.columns"
   ]
  },
  {
   "cell_type": "code",
   "execution_count": null,
   "id": "499acafb",
   "metadata": {},
   "outputs": [
    {
     "data": {
      "text/html": [
       "<div>\n",
       "<style scoped>\n",
       "    .dataframe tbody tr th:only-of-type {\n",
       "        vertical-align: middle;\n",
       "    }\n",
       "\n",
       "    .dataframe tbody tr th {\n",
       "        vertical-align: top;\n",
       "    }\n",
       "\n",
       "    .dataframe thead th {\n",
       "        text-align: right;\n",
       "    }\n",
       "</style>\n",
       "<table border=\"1\" class=\"dataframe\">\n",
       "  <thead>\n",
       "    <tr style=\"text-align: right;\">\n",
       "      <th></th>\n",
       "      <th>Name</th>\n",
       "      <th>Purchase</th>\n",
       "      <th>Price</th>\n",
       "    </tr>\n",
       "  </thead>\n",
       "  <tbody>\n",
       "    <tr>\n",
       "      <th>0</th>\n",
       "      <td>Monica</td>\n",
       "      <td>Pencil</td>\n",
       "      <td>30</td>\n",
       "    </tr>\n",
       "    <tr>\n",
       "      <th>1</th>\n",
       "      <td>John</td>\n",
       "      <td>Pen</td>\n",
       "      <td>20</td>\n",
       "    </tr>\n",
       "    <tr>\n",
       "      <th>2</th>\n",
       "      <td>Richard</td>\n",
       "      <td>Book</td>\n",
       "      <td>50</td>\n",
       "    </tr>\n",
       "  </tbody>\n",
       "</table>\n",
       "</div>"
      ],
      "text/plain": [
       "      Name Purchase  Price\n",
       "0   Monica   Pencil     30\n",
       "1     John      Pen     20\n",
       "2  Richard     Book     50"
      ]
     },
     "execution_count": 25,
     "metadata": {},
     "output_type": "execute_result"
    }
   ],
   "source": [
    "#Drop\n",
    "df.drop(\"place\", axis=1, errors='ignore')"
   ]
  },
  {
   "cell_type": "code",
   "execution_count": null,
   "id": "1372984d",
   "metadata": {},
   "outputs": [
    {
     "data": {
      "text/plain": [
       "Index(['Name', 'Purchase', 'Price'], dtype='object')"
      ]
     },
     "execution_count": 23,
     "metadata": {},
     "output_type": "execute_result"
    }
   ],
   "source": [
    "#Drop\n",
    "df.drop(columns=[\"place\"], inplace=True)\n",
    "df.columns"
   ]
  },
  {
   "cell_type": "code",
   "execution_count": null,
   "id": "771580ad",
   "metadata": {},
   "outputs": [
    {
     "data": {
      "text/plain": [
       "0     True\n",
       "1    False\n",
       "2     True\n",
       "Name: Price, dtype: bool"
      ]
     },
     "execution_count": 26,
     "metadata": {},
     "output_type": "execute_result"
    }
   ],
   "source": [
    "#Querying a dataframe\n",
    "df[\"Price\"]>20"
   ]
  },
  {
   "cell_type": "code",
   "execution_count": null,
   "id": "b05cd590",
   "metadata": {},
   "outputs": [
    {
     "data": {
      "text/html": [
       "<div>\n",
       "<style scoped>\n",
       "    .dataframe tbody tr th:only-of-type {\n",
       "        vertical-align: middle;\n",
       "    }\n",
       "\n",
       "    .dataframe tbody tr th {\n",
       "        vertical-align: top;\n",
       "    }\n",
       "\n",
       "    .dataframe thead th {\n",
       "        text-align: right;\n",
       "    }\n",
       "</style>\n",
       "<table border=\"1\" class=\"dataframe\">\n",
       "  <thead>\n",
       "    <tr style=\"text-align: right;\">\n",
       "      <th></th>\n",
       "      <th>Name</th>\n",
       "      <th>Purchase</th>\n",
       "      <th>Price</th>\n",
       "    </tr>\n",
       "  </thead>\n",
       "  <tbody>\n",
       "    <tr>\n",
       "      <th>0</th>\n",
       "      <td>Monica</td>\n",
       "      <td>Pencil</td>\n",
       "      <td>30.0</td>\n",
       "    </tr>\n",
       "    <tr>\n",
       "      <th>1</th>\n",
       "      <td>NaN</td>\n",
       "      <td>NaN</td>\n",
       "      <td>NaN</td>\n",
       "    </tr>\n",
       "    <tr>\n",
       "      <th>2</th>\n",
       "      <td>Richard</td>\n",
       "      <td>Book</td>\n",
       "      <td>50.0</td>\n",
       "    </tr>\n",
       "  </tbody>\n",
       "</table>\n",
       "</div>"
      ],
      "text/plain": [
       "      Name Purchase  Price\n",
       "0   Monica   Pencil   30.0\n",
       "1      NaN      NaN    NaN\n",
       "2  Richard     Book   50.0"
      ]
     },
     "execution_count": 30,
     "metadata": {},
     "output_type": "execute_result"
    }
   ],
   "source": [
    "#Querying a dataframe where [] takes a boolean series\n",
    "data = df.where(df[\"Price\"] > 20)\n",
    "data\n"
   ]
  },
  {
   "cell_type": "code",
   "execution_count": null,
   "id": "ee70775b",
   "metadata": {},
   "outputs": [
    {
     "data": {
      "text/html": [
       "<div>\n",
       "<style scoped>\n",
       "    .dataframe tbody tr th:only-of-type {\n",
       "        vertical-align: middle;\n",
       "    }\n",
       "\n",
       "    .dataframe tbody tr th {\n",
       "        vertical-align: top;\n",
       "    }\n",
       "\n",
       "    .dataframe thead th {\n",
       "        text-align: right;\n",
       "    }\n",
       "</style>\n",
       "<table border=\"1\" class=\"dataframe\">\n",
       "  <thead>\n",
       "    <tr style=\"text-align: right;\">\n",
       "      <th></th>\n",
       "      <th>Name</th>\n",
       "      <th>Purchase</th>\n",
       "      <th>Price</th>\n",
       "    </tr>\n",
       "  </thead>\n",
       "  <tbody>\n",
       "    <tr>\n",
       "      <th>0</th>\n",
       "      <td>Monica</td>\n",
       "      <td>Pencil</td>\n",
       "      <td>30.0</td>\n",
       "    </tr>\n",
       "    <tr>\n",
       "      <th>2</th>\n",
       "      <td>Richard</td>\n",
       "      <td>Book</td>\n",
       "      <td>50.0</td>\n",
       "    </tr>\n",
       "  </tbody>\n",
       "</table>\n",
       "</div>"
      ],
      "text/plain": [
       "      Name Purchase  Price\n",
       "0   Monica   Pencil   30.0\n",
       "2  Richard     Book   50.0"
      ]
     },
     "execution_count": 31,
     "metadata": {},
     "output_type": "execute_result"
    }
   ],
   "source": [
    "#filtering the rows with NaN Value\n",
    "data=data.dropna()\n",
    "data"
   ]
  },
  {
   "cell_type": "code",
   "execution_count": null,
   "id": "3ca9b0af",
   "metadata": {},
   "outputs": [
    {
     "name": "stdout",
     "output_type": "stream",
     "text": [
      "      Name  Age  Salary\n",
      "0    Alice   25   50000\n",
      "1      Bob   30   60000\n",
      "2  Charlie   35   70000\n",
      "3    David   40   80000\n",
      "      Name  Age  Salary\n",
      "1      Bob   30   60000\n",
      "2  Charlie   35   70000\n",
      "3    David   40   80000\n",
      "      Name  Age  Salary\n",
      "1      Bob   30   60000\n",
      "2  Charlie   35   70000\n",
      "      Name  Age  Salary\n",
      "0    Alice   25   50000\n",
      "1      Bob   30   60000\n",
      "2  Charlie   35   70000\n",
      "3    David   40   80000\n"
     ]
    }
   ],
   "source": [
    "#Querying a dataframe using logical operations\n",
    "import pandas as pd\n",
    "df = pd.DataFrame({\n",
    "    \"Name\": [\"Alice\", \"Bob\", \"Charlie\", \"David\"],\n",
    "    \"Age\": [25, 30, 35, 40],\n",
    "    \"Salary\": [50000, 60000, 70000, 80000]\n",
    "})\n",
    "print(df)\n",
    "print(df[df[\"Age\"] > 25])\n",
    "# Using & for logical AND\n",
    "print(df[(df[\"Age\"] > 25) & (df[\"Salary\"] < 80000)])  # Using & for logical AND\n",
    "#Using or\n",
    "print(df[(df[\"Age\"] > 25) | (df[\"Salary\"] < 80000)])  # Using | for logical OR"
   ]
  },
  {
   "cell_type": "code",
   "execution_count": 9,
   "id": "81e9c69b",
   "metadata": {},
   "outputs": [
    {
     "name": "stdout",
     "output_type": "stream",
     "text": [
      "         Age  Salary\n",
      "Name                \n",
      "Alice     25   50000\n",
      "Bob       30   60000\n",
      "Charlie   35   70000\n",
      "David     40   80000\n"
     ]
    }
   ],
   "source": [
    "#index dataframe\n",
    "print(df.set_index(\"Name\"))  # Setting \"Name\" as the index"
   ]
  },
  {
   "cell_type": "code",
   "execution_count": 10,
   "id": "997edad0",
   "metadata": {},
   "outputs": [
    {
     "name": "stdout",
     "output_type": "stream",
     "text": [
      "   index     Name  Age  Salary\n",
      "0      0    Alice   25   50000\n",
      "1      1      Bob   30   60000\n",
      "2      2  Charlie   35   70000\n",
      "3      3    David   40   80000\n"
     ]
    }
   ],
   "source": [
    "#Resetting the index\n",
    "df.reset_index(inplace=True)\n",
    "print(df)"
   ]
  },
  {
   "cell_type": "code",
   "execution_count": 18,
   "id": "b9e1a8fa",
   "metadata": {},
   "outputs": [
    {
     "name": "stdout",
     "output_type": "stream",
     "text": [
      "    Make  Model   Year  Price  Mileage  Condition\n",
      "0  False  False  False  False    False      False\n",
      "1  False  False  False  False    False      False\n",
      "2  False   True  False   True    False      False\n",
      "3  False  False  False  False    False      False\n",
      "4  False  False  False   True    False      False\n",
      "5  False  False   True  False     True      False\n",
      "6  False  False  False  False    False      False\n",
      "7  False  False  False  False     True      False\n",
      "8  False  False   True  False    False       True\n",
      "9  False  False  False  False    False      False\n",
      "   Make  Model   Year  Price  Mileage  Condition\n",
      "0  True   True   True   True     True       True\n",
      "1  True   True   True   True     True       True\n",
      "2  True  False   True  False     True       True\n",
      "3  True   True   True   True     True       True\n",
      "4  True   True   True  False     True       True\n",
      "5  True   True  False   True    False       True\n",
      "6  True   True   True   True     True       True\n",
      "7  True   True   True   True    False       True\n",
      "8  True   True  False   True     True      False\n",
      "9  True   True   True   True     True       True\n",
      "        Make     Model    Year    Price   Mileage  Condition\n",
      "0     Toyota     Camry  2010.0  20000.0  120000.0       Good\n",
      "1      Honda     Civic  2012.0  18000.0  110000.0  Excellent\n",
      "2       Ford         0  2011.0      0.0  105000.0       Good\n",
      "3  Chevrolet    Malibu  2013.0  22000.0   90000.0       Fair\n",
      "4        BMW        X5  2014.0      0.0   80000.0       Good\n",
      "5     Toyota   Corolla     0.0  21000.0       0.0  Excellent\n",
      "6      Honda    Accord  2016.0  19000.0  100000.0       Good\n",
      "7       Ford    Fusion  2017.0  18000.0       0.0       Fair\n",
      "8  Chevrolet    Impala     0.0  23000.0   85000.0          0\n",
      "9        BMW  3 Series  2019.0  46000.0   75000.0       Good\n"
     ]
    }
   ],
   "source": [
    "#Handling missing values in pandas using the existing DataFrame 'df'\n",
    "import pandas as pd\n",
    "df=pd.read_csv(r\"C:\\Users\\RICHARD\\OneDrive\\Desktop\\Cars.csv\")\n",
    "print(df.isnull())\n",
    "\n",
    "#not null values\n",
    "print(df.notnull())\n",
    "\n",
    "#Filling missing values with a specific value\n",
    "df.fillna(0, inplace=True)\n",
    "print(df)\n"
   ]
  },
  {
   "cell_type": "code",
   "execution_count": 19,
   "id": "128a5c27",
   "metadata": {},
   "outputs": [
    {
     "name": "stdout",
     "output_type": "stream",
     "text": [
      "          Values\n",
      "Category        \n",
      "A             40\n",
      "B             60\n",
      "C             50\n"
     ]
    }
   ],
   "source": [
    "#Groupby in pandas\n",
    "import pandas as pd\n",
    "\n",
    "#Generate data\n",
    "data={\n",
    "    \"Category\": [\"A\", \"B\", \"A\", \"B\", \"C\"],\n",
    "    \"Values\": [10, 20, 30, 40, 50]\n",
    "}\n",
    "df=pd.DataFrame(data)\n",
    "#Group the Dataframe by \"Category\" and sum the \"Values\"\n",
    "grouped = df.groupby(\"Category\").sum()\n",
    "print(grouped)\n"
   ]
  },
  {
   "cell_type": "code",
   "execution_count": 20,
   "id": "3f32833d",
   "metadata": {},
   "outputs": [
    {
     "name": "stdout",
     "output_type": "stream",
     "text": [
      "         Values          \n",
      "            sum  mean max\n",
      "Category                 \n",
      "A            40  20.0  30\n",
      "B            60  30.0  40\n",
      "C            50  50.0  50\n"
     ]
    }
   ],
   "source": [
    "#Caluculate the  aggregate values\n",
    "grouped = df.groupby(\"Category\").agg({\"Values\": [\"sum\", \"mean\", \"max\"]})\n",
    "print(grouped)"
   ]
  },
  {
   "cell_type": "code",
   "execution_count": 1,
   "id": "7d47b325",
   "metadata": {},
   "outputs": [
    {
     "name": "stdout",
     "output_type": "stream",
     "text": [
      "      Name  Age  Salary Department  Experience\n",
      "0    Alice   25   50000         HR           2\n",
      "1      Bob   30   60000    Finance           5\n",
      "2  Charlie   35   70000         IT           7\n",
      "3    David   40   80000  Marketing          10\n",
      "4      Eva   28   55000         HR           3\n",
      "5    Frank   32   62000    Finance           6\n",
      "6    Grace   29   58000         IT           4\n",
      "7   Hannah   31   61000  Marketing           8\n",
      "8      Ian   27   54000         HR           1\n",
      "9     Jack   26   53000    Finance           9\n"
     ]
    }
   ],
   "source": [
    "#Assignment 7\n",
    "#Create a datsaset with atleast 5 columns and 10 rows\n",
    "import pandas as pd\n",
    "data = {\n",
    "    \"Name\": [\"Alice\", \"Bob\", \"Charlie\", \"David\", \"Eva\", \"Frank\", \"Grace\", \"Hannah\", \"Ian\", \"Jack\"],\n",
    "    \"Age\": [25, 30, 35, 40, 28, 32, 29, 31, 27, 26],\n",
    "    \"Salary\": [50000, 60000, 70000, 80000, 55000, 62000, 58000, 61000, 54000, 53000],\n",
    "    \"Department\": [\"HR\", \"Finance\", \"IT\", \"Marketing\", \"HR\", \"Finance\", \"IT\", \"Marketing\", \"HR\", \"Finance\"],\n",
    "    \"Experience\": [2, 5, 7, 10, 3, 6, 4, 8, 1, 9]\n",
    "}\n",
    "df = pd.DataFrame(data)\n",
    "print(df)\n"
   ]
  },
  {
   "cell_type": "code",
   "execution_count": null,
   "id": "cc230792",
   "metadata": {},
   "outputs": [
    {
     "name": "stdout",
     "output_type": "stream",
     "text": [
      "0    False\n",
      "1    False\n",
      "2     True\n",
      "3     True\n",
      "4    False\n",
      "5     True\n",
      "6    False\n",
      "7     True\n",
      "8    False\n",
      "9    False\n",
      "Name: Salary, dtype: bool\n",
      "0     True\n",
      "1    False\n",
      "2    False\n",
      "3    False\n",
      "4     True\n",
      "5    False\n",
      "6     True\n",
      "7    False\n",
      "8     True\n",
      "9     True\n",
      "Name: Age, dtype: bool\n"
     ]
    }
   ],
   "source": [
    "#1. Logical functions in a Dataframe\n",
    "#Check if the \"Salary\" column is greater than 60000\n",
    "salary_check = df[\"Salary\"] > 60000\n",
    "print(salary_check)\n",
    "\n",
    "#Check if the \"Age\"column is less than 30\n",
    "age_check = df[\"Age\"] < 30\n",
    "print(age_check)"
   ]
  },
  {
   "cell_type": "code",
   "execution_count": null,
   "id": "0a8fa6f6",
   "metadata": {},
   "outputs": [
    {
     "name": "stdout",
     "output_type": "stream",
     "text": [
      "      Name  Age  Salary Department  Experience\n",
      "2  Charlie   35   70000         IT           7\n",
      "3    David   40   80000  Marketing          10\n",
      "5    Frank   32   62000    Finance           6\n",
      "      Name  Age  Salary Department  Experience\n",
      "2  Charlie   35   70000         IT           7\n",
      "3    David   40   80000  Marketing          10\n",
      "5    Frank   32   62000    Finance           6\n",
      "7   Hannah   31   61000  Marketing           8\n"
     ]
    }
   ],
   "source": [
    "#2.Querying a dataframe using .query()\n",
    "#Finding the rows where \"Age\" is greater than 31\n",
    "age_check = df.query(\"Age > 31\")\n",
    "print(age_check)\n",
    "\n",
    "#Finding the rows where the \"Salary\" is greater than 60000\n",
    "salary_check = df.query(\"Salary > 60000\")\n",
    "print(salary_check)\n"
   ]
  },
  {
   "cell_type": "code",
   "execution_count": null,
   "id": "10a9e2a2",
   "metadata": {},
   "outputs": [
    {
     "name": "stdout",
     "output_type": "stream",
     "text": [
      "      Name   Age   Salary\n",
      "0    Alice  25.0  50000.0\n",
      "1      Bob   NaN  60000.0\n",
      "2  Charlie  35.0      NaN\n",
      "3    David  40.0  80000.0\n",
      "4      Eva   NaN  55000.0\n"
     ]
    }
   ],
   "source": [
    "#3. Handling missing values in a DataFrame\n",
    "#Creating a DataFrame with missing values\n",
    "import pandas as pd\n",
    "data2= {\n",
    "    \"Name\": [\"Alice\", \"Bob\", \"Charlie\", \"David\", \"Eva\"],\n",
    "    \"Age\": [25, None, 35, 40, None],\n",
    "    \"Salary\": [50000, 60000, None, 80000, 55000]\n",
    "}  \n",
    "df2 = pd.DataFrame(data2)\n",
    "print(df2) \n"
   ]
  },
  {
   "cell_type": "code",
   "execution_count": 8,
   "id": "96a38804",
   "metadata": {},
   "outputs": [
    {
     "name": "stdout",
     "output_type": "stream",
     "text": [
      "Name      0\n",
      "Age       2\n",
      "Salary    1\n",
      "dtype: int64\n",
      "    Name   Age   Salary\n",
      "0  Alice  25.0  50000.0\n",
      "3  David  40.0  80000.0\n",
      "      Name        Age   Salary\n",
      "0    Alice  25.000000  50000.0\n",
      "1      Bob  33.333333  60000.0\n",
      "2  Charlie  35.000000  61250.0\n",
      "3    David  40.000000  80000.0\n",
      "4      Eva  33.333333  55000.0\n"
     ]
    }
   ],
   "source": [
    "#Showing the number of missing values in the dataframe\n",
    "missing_values =df2.isnull().sum()\n",
    "print(missing_values)\n",
    "\n",
    "#Dropping rows with missing values\n",
    "df2_drop= df2.dropna()\n",
    "print(df2_drop)\n",
    "\n",
    "#Filling missing values in one column using .fillna() with a default or mean value\n",
    "df2_fill = df2.fillna({\"Age\": df2[\"Age\"].mean(), \"Salary\": df2[\"Salary\"].mean()})\n",
    "print(df2_fill)"
   ]
  },
  {
   "cell_type": "code",
   "execution_count": 11,
   "id": "8db028ff",
   "metadata": {},
   "outputs": [
    {
     "name": "stdout",
     "output_type": "stream",
     "text": [
      "                  Salary              \n",
      "                    mean    max    min\n",
      "Department                            \n",
      "Finance     58333.333333  62000  53000\n",
      "HR          53000.000000  55000  50000\n",
      "IT          64000.000000  70000  58000\n",
      "Marketing   70500.000000  80000  61000\n"
     ]
    }
   ],
   "source": [
    "#4. Group By and Aggregation\n",
    "#Using .groupby() on \"Department\" and performing aggregation\n",
    "grouped = df.groupby(\"Department\").agg({\"Salary\": [\"mean\", \"max\", \"min\"]})\n",
    "print(grouped)"
   ]
  },
  {
   "cell_type": "code",
   "execution_count": null,
   "id": "c7848614",
   "metadata": {},
   "outputs": [
    {
     "name": "stdout",
     "output_type": "stream",
     "text": [
      "Excellent     A\n",
      "excellent    A-\n",
      "good         B-\n",
      "good         B+\n",
      "ok           C-\n",
      "Name: Grades, dtype: category\n",
      "Categories (6, object): ['A', 'A-', 'B+', 'B-', 'C+', 'C-']\n"
     ]
    }
   ],
   "source": [
    "#Nominal scale -nmaing and labelling\n",
    "import csv\n",
    "import pandas as pd\n",
    "df = pd.DataFrame([\"A\", \"A-\", \"B-\", \"B+\", \"C-\", \"C+\"], index=[\"Excellent\", \"excellent\", \"good\", \"good\", \"ok\", \"ok\"])\n",
    "df.rename(columns={0: \"Grades\"}, inplace=True)\n",
    "a = df[\"Grades\"].astype(\"category\").head()\n",
    "print(a)"
   ]
  },
  {
   "cell_type": "code",
   "execution_count": null,
   "id": "27c58e15",
   "metadata": {},
   "outputs": [
    {
     "name": "stdout",
     "output_type": "stream",
     "text": [
      "Excellent     A\n",
      "excellent    A-\n",
      "good         B-\n",
      "good         B+\n",
      "ok           C-\n",
      "Name: Grades, dtype: category\n",
      "Categories (6, object): ['A' < 'A-' < 'B-' < 'B+' < 'C-' < 'C+']\n"
     ]
    }
   ],
   "source": [
    "#Ordinal scale - ordering categories\n",
    "import pandas as pd\n",
    "df = pd.DataFrame([\"A\", \"A-\", \"B-\", \"B+\", \"C-\", \"C+\"], index=[\"Excellent\", \"excellent\", \"good\", \"good\", \"ok\", \"ok\"])\n",
    "df.rename(columns={0: \"Grades\"}, inplace=True)\n",
    "grades = df[\"Grades\"].astype(\"category\")\n",
    "grades = grades.cat.reorder_categories([\"A\", \"A-\", \"B-\", \"B+\", \"C-\", \"C+\"], ordered=True)\n",
    "print(grades.head())"
   ]
  },
  {
   "cell_type": "code",
   "execution_count": 10,
   "id": "f1e0ca5f",
   "metadata": {},
   "outputs": [
    {
     "ename": "AttributeError",
     "evalue": "'Series' object has no attribute 'atype'",
     "output_type": "error",
     "traceback": [
      "\u001b[31m---------------------------------------------------------------------------\u001b[39m",
      "\u001b[31mAttributeError\u001b[39m                            Traceback (most recent call last)",
      "\u001b[32m~\\AppData\\Local\\Temp\\ipykernel_495564\\1871216873.py\u001b[39m in \u001b[36m?\u001b[39m\u001b[34m()\u001b[39m\n\u001b[32m      3\u001b[39m s = pd.Series([\u001b[33m\"a\"\u001b[39m, \u001b[33m\"b\"\u001b[39m, \u001b[33m\"c\"\u001b[39m, \u001b[33m\"a\"\u001b[39m])\n\u001b[32m      4\u001b[39m s\n\u001b[32m      5\u001b[39m \n\u001b[32m      6\u001b[39m \u001b[38;5;28;01mimport\u001b[39;00m pandas \u001b[38;5;28;01mas\u001b[39;00m pd\n\u001b[32m----> \u001b[39m\u001b[32m7\u001b[39m s2=s.atype(\u001b[33m\"category\"\u001b[39m)\n\u001b[32m      8\u001b[39m s2\n",
      "\u001b[32mc:\\Users\\RICHARD\\AppData\\Local\\Programs\\Python\\Python313\\Lib\\site-packages\\pandas\\core\\generic.py\u001b[39m in \u001b[36m?\u001b[39m\u001b[34m(self, name)\u001b[39m\n\u001b[32m   6314\u001b[39m             \u001b[38;5;28;01mand\u001b[39;00m name \u001b[38;5;28;01mnot\u001b[39;00m \u001b[38;5;28;01min\u001b[39;00m self._accessors\n\u001b[32m   6315\u001b[39m             \u001b[38;5;28;01mand\u001b[39;00m self._info_axis._can_hold_identifiers_and_holds_name(name)\n\u001b[32m   6316\u001b[39m         ):\n\u001b[32m   6317\u001b[39m             \u001b[38;5;28;01mreturn\u001b[39;00m self[name]\n\u001b[32m-> \u001b[39m\u001b[32m6318\u001b[39m         \u001b[38;5;28;01mreturn\u001b[39;00m object.__getattribute__(self, name)\n",
      "\u001b[31mAttributeError\u001b[39m: 'Series' object has no attribute 'atype'"
     ]
    }
   ],
   "source": [
    "#scales example\n",
    "import pandas as pd\n",
    "s = pd.Series([\"a\", \"b\", \"c\", \"a\"])\n",
    "s\n",
    "\n",
    "import pandas as pd\n",
    "s2=s.atype(\"category\")\n",
    "s2"
   ]
  },
  {
   "cell_type": "code",
   "execution_count": null,
   "id": "ad02f2dc",
   "metadata": {},
   "outputs": [
    {
     "name": "stdout",
     "output_type": "stream",
     "text": [
      "Make        BMW  Chevrolet     Ford    Honda   Toyota\n",
      "Year                                                 \n",
      "2010.0      NaN        NaN      NaN      NaN  20000.0\n",
      "2012.0      NaN        NaN      NaN  18000.0      NaN\n",
      "2013.0      NaN    22000.0      NaN      NaN      NaN\n",
      "2016.0      NaN        NaN      NaN  19000.0      NaN\n",
      "2017.0      NaN        NaN  18000.0      NaN      NaN\n",
      "2019.0  46000.0        NaN      NaN      NaN      NaN\n"
     ]
    },
    {
     "name": "stderr",
     "output_type": "stream",
     "text": [
      "C:\\Users\\RICHARD\\AppData\\Local\\Temp\\ipykernel_495564\\1777729574.py:5: FutureWarning: The provided callable <function mean at 0x0000019BAAB74AE0> is currently using DataFrameGroupBy.mean. In a future version of pandas, the provided callable will be used directly. To keep current behavior pass the string \"mean\" instead.\n",
      "  a = df.pivot_table(values=\"Price\", index=\"Year\", columns=\"Make\", aggfunc=np.mean)\n"
     ]
    }
   ],
   "source": [
    "#Pivot tables\n",
    "import pandas as pd\n",
    "import numpy as np\n",
    "\n",
    "a = df.pivot_table(values=\"Price\", index=\"Year\", columns=\"Make\", aggfunc=np.mean)\n",
    "print(a)"
   ]
  },
  {
   "cell_type": "code",
   "execution_count": 17,
   "id": "6c0be5d0",
   "metadata": {},
   "outputs": [
    {
     "data": {
      "text/plain": [
       "Timestamp('2025-07-29 12:09:00')"
      ]
     },
     "execution_count": 17,
     "metadata": {},
     "output_type": "execute_result"
    }
   ],
   "source": [
    "#Timestamps\n",
    "import pandas as pd\n",
    "import numpy as np\n",
    "pd.Timestamp(\"7/29/2025 12:09:00 PM\")\n"
   ]
  },
  {
   "cell_type": "code",
   "execution_count": 20,
   "id": "97916080",
   "metadata": {},
   "outputs": [
    {
     "data": {
      "text/plain": [
       "Period('2025-07-29', 'D')"
      ]
     },
     "execution_count": 20,
     "metadata": {},
     "output_type": "execute_result"
    }
   ],
   "source": [
    "#Periods\n",
    "pd.Period(\"1/2025\")\n",
    "\n",
    "pd.Period(\"7/29/2025\")\n"
   ]
  },
  {
   "cell_type": "code",
   "execution_count": null,
   "id": "aa15be55",
   "metadata": {},
   "outputs": [
    {
     "data": {
      "text/plain": [
       "2025-01-01    a\n",
       "2025-01-02    b\n",
       "2025-01-03    c\n",
       "dtype: object"
      ]
     },
     "execution_count": 21,
     "metadata": {},
     "output_type": "execute_result"
    }
   ],
   "source": [
    "#DatetimeIndex\n",
    "import pandas as pd\n",
    "t1=pd.Series(list(\"abc\"),[pd.Timestamp(\"2025-01-01\"), pd.Timestamp(\"2025-01-02\"), pd.Timestamp(\"2025-01-03\")])\n",
    "t1\n",
    "#\"abc\" is the index assigned to timestamp value"
   ]
  },
  {
   "cell_type": "code",
   "execution_count": null,
   "id": "35e24851",
   "metadata": {},
   "outputs": [
    {
     "data": {
      "text/plain": [
       "2025-01    x\n",
       "2025-02    y\n",
       "2025-03    z\n",
       "Freq: M, dtype: object"
      ]
     },
     "execution_count": 22,
     "metadata": {},
     "output_type": "execute_result"
    }
   ],
   "source": [
    "#Periodindex\n",
    "import pandas as pd\n",
    "t2=pd.Series(list(\"xyz\"),[pd.Period(\"2025-01\"), pd.Period(\"2025-02\"), pd.Period(\"2025-03\")])\n",
    "t2\n",
    "#xyz is the index assigned to period value"
   ]
  },
  {
   "cell_type": "code",
   "execution_count": 24,
   "id": "3ba3147e",
   "metadata": {},
   "outputs": [
    {
     "name": "stderr",
     "output_type": "stream",
     "text": [
      "C:\\Users\\RICHARD\\AppData\\Local\\Temp\\ipykernel_495564\\1832185072.py:5: UserWarning: Could not infer format, so each element will be parsed individually, falling back to `dateutil`. To ensure parsing is consistent and as-expected, please specify a format.\n",
      "  t.index=pd.to_datetime(t.index)\n"
     ]
    },
    {
     "data": {
      "text/html": [
       "<div>\n",
       "<style scoped>\n",
       "    .dataframe tbody tr th:only-of-type {\n",
       "        vertical-align: middle;\n",
       "    }\n",
       "\n",
       "    .dataframe tbody tr th {\n",
       "        vertical-align: top;\n",
       "    }\n",
       "\n",
       "    .dataframe thead th {\n",
       "        text-align: right;\n",
       "    }\n",
       "</style>\n",
       "<table border=\"1\" class=\"dataframe\">\n",
       "  <thead>\n",
       "    <tr style=\"text-align: right;\">\n",
       "      <th></th>\n",
       "      <th>x</th>\n",
       "      <th>y</th>\n",
       "    </tr>\n",
       "  </thead>\n",
       "  <tbody>\n",
       "    <tr>\n",
       "      <th>2025-07-29</th>\n",
       "      <td>NaN</td>\n",
       "      <td>NaN</td>\n",
       "    </tr>\n",
       "    <tr>\n",
       "      <th>2025-07-21</th>\n",
       "      <td>NaN</td>\n",
       "      <td>NaN</td>\n",
       "    </tr>\n",
       "    <tr>\n",
       "      <th>2016-08-04</th>\n",
       "      <td>NaN</td>\n",
       "      <td>NaN</td>\n",
       "    </tr>\n",
       "  </tbody>\n",
       "</table>\n",
       "</div>"
      ],
      "text/plain": [
       "              x    y\n",
       "2025-07-29  NaN  NaN\n",
       "2025-07-21  NaN  NaN\n",
       "2016-08-04  NaN  NaN"
      ]
     },
     "execution_count": 24,
     "metadata": {},
     "output_type": "execute_result"
    }
   ],
   "source": [
    "#Converting to datetime format\n",
    "import pandas as pd\n",
    "date_1=[\"29 july 2025\",\"21/07/2025\",\"4-aug-2016\"]\n",
    "t=pd.DataFrame(index=date_1,columns=list(\"xy\"))\n",
    "t.index=pd.to_datetime(t.index)\n",
    "t"
   ]
  },
  {
   "cell_type": "code",
   "execution_count": null,
   "id": "de55e236",
   "metadata": {},
   "outputs": [
    {
     "data": {
      "text/plain": [
       "Timedelta('209 days 00:00:00')"
      ]
     },
     "execution_count": 25,
     "metadata": {},
     "output_type": "execute_result"
    }
   ],
   "source": [
    "#Timedeltas - differences in time\n",
    "import pandas as pd\n",
    "pd.Timestamp(\"7/29/2025\")-pd.Timestamp(\"1/1/2025\")"
   ]
  },
  {
   "cell_type": "code",
   "execution_count": 27,
   "id": "8ffefa27",
   "metadata": {},
   "outputs": [
    {
     "name": "stdout",
     "output_type": "stream",
     "text": [
      "        Department\n",
      "Name              \n",
      "Alice           HR\n",
      "Bob        Finance\n",
      "Charlie         IT\n",
      "        Course\n",
      "Name          \n",
      "Alice     Math\n",
      "David  Science\n",
      "Ethan  History\n"
     ]
    }
   ],
   "source": [
    "#Merging dataframes\n",
    "import pandas as pd\n",
    "staff_df = pd.DataFrame({\"Name\": [\"Alice\", \"Bob\", \"Charlie\"],\n",
    "                         \n",
    "                         \"Department\": [\"HR\", \"Finance\", \"IT\"]\n",
    "    })\n",
    "staff_df=staff_df.set_index(\"Name\")\n",
    "student_df = pd.DataFrame({\"Name\": [\"Alice\", \"David\", \"Ethan\"],\n",
    "                            \"Course\": [\"Math\", \"Science\", \"History\"]})\n",
    "student_df=student_df.set_index(\"Name\")\n",
    "print(staff_df)\n",
    "print(student_df)"
   ]
  },
  {
   "cell_type": "code",
   "execution_count": 1,
   "id": "d58e5717",
   "metadata": {},
   "outputs": [
    {
     "data": {
      "image/png": "[encoded data removed]",
      "text/plain": [
       "<Figure size 640x480 with 1 Axes>"
      ]
     },
     "metadata": {},
     "output_type": "display_data"
    }
   ],
   "source": [
    "#A line plot\n",
    "from matplotlib import pyplot as plt\n",
    "#x-axis values\n",
    "x=[5,2,9,4,7]\n",
    "#y-axis values\n",
    "y=[10,5,8,4,2]\n",
    "#Function to show plot\n",
    "plt.plot(x,y)\n",
    "#Function to show the plot\n",
    "plt.show()\n"
   ]
  },
  {
   "cell_type": "code",
   "execution_count": 2,
   "id": "22aa98ef",
   "metadata": {},
   "outputs": [
    {
     "data": {
      "image/png": "[encoded data removed]",
      "text/plain": [
       "<Figure size 640x480 with 1 Axes>"
      ]
     },
     "metadata": {},
     "output_type": "display_data"
    }
   ],
   "source": [
    "#Bar plot\n",
    "from matplotlib import pyplot as plt\n",
    "#x-axis values\n",
    "x = [5,2,9,4,7]\n",
    "#y-axis values\n",
    "y = [10,5,8,4,2]\n",
    "#Function to show bar plot\n",
    "plt.bar(x, y)\n",
    "#Function to show the plot\n",
    "plt.show()"
   ]
  },
  {
   "cell_type": "code",
   "execution_count": null,
   "id": "bfa585f0",
   "metadata": {},
   "outputs": [
    {
     "data": {
      "image/png": "[encoded data removed]",
      "text/plain": [
       "<Figure size 640x480 with 1 Axes>"
      ]
     },
     "metadata": {},
     "output_type": "display_data"
    }
   ],
   "source": [
    "#Histogram\n",
    "from matplotlib import pyplot as plt\n",
    "#y-axis values\n",
    "y=[10,5,8,4,2]\n",
    "#function to plot histogram and changing the color\n",
    "plt.hist(y, color='green')\n",
    "#function to show the plot\n",
    "plt.show()\n"
   ]
  },
  {
   "cell_type": "code",
   "execution_count": 6,
   "id": "a4eb2f0b",
   "metadata": {},
   "outputs": [
    {
     "data": {
      "image/png": "[encoded data removed]",
      "text/plain": [
       "<Figure size 640x480 with 1 Axes>"
      ]
     },
     "metadata": {},
     "output_type": "display_data"
    }
   ],
   "source": [
    "#Scatter plot\n",
    "from matplotlib import pyplot as plt\n",
    "#x-axis values\n",
    "x = [5,2,9,4,7]\n",
    "#y-axis values\n",
    "y = [10,5,8,4,2]\n",
    "#Function to show scatter plot and change color\n",
    "plt.scatter(x, y, color=\"yellow\", marker=\"o\")\n",
    "#Function to show the plot\n",
    "plt.show()"
   ]
  },
  {
   "cell_type": "code",
   "execution_count": 9,
   "id": "4d8d550f",
   "metadata": {},
   "outputs": [
    {
     "data": {
      "text/plain": [
       "Text(0, 0.5, 'Y label')"
      ]
     },
     "execution_count": 9,
     "metadata": {},
     "output_type": "execute_result"
    },
    {
     "data": {
      "image/png": "[encoded data removed]",
      "text/plain": [
       "<Figure size 640x480 with 1 Axes>"
      ]
     },
     "metadata": {},
     "output_type": "display_data"
    }
   ],
   "source": [
    "#Functional approach\n",
    "import numpy as np\n",
    "x=np.linspace(0,10,20)#will generate 20 datapoints between 0 and 10\n",
    "y=x**2 #will Generate array \"y\" from \"x\"\n",
    "plt.plot(x,y)\n",
    "plt.title(\"Our first Plot\")\n",
    "plt.xlabel(\"X label\")\n",
    "plt.ylabel(\"Y label\")\n"
   ]
  },
  {
   "cell_type": "code",
   "execution_count": 10,
   "id": "1a577805",
   "metadata": {},
   "outputs": [
    {
     "data": {
      "image/png": "[encoded data removed]",
      "text/plain": [
       "<Figure size 640x480 with 2 Axes>"
      ]
     },
     "metadata": {},
     "output_type": "display_data"
    }
   ],
   "source": [
    "#Using .subplot() to create two plots on the same canvas\n",
    "import numpy as np\n",
    "import matplotlib.pyplot as plt\n",
    "\n",
    "plt.subplot(1, 2, 1)  # 1 row, 2 columns, first subplot\n",
    "plt.plot(x, y, color=\"red\")  # More on color options later\n",
    "\n",
    "plt.subplot(1, 2, 2)\n",
    "plt.plot(y, x, color=\"green\")\n",
    "\n",
    "plt.show()"
   ]
  },
  {
   "cell_type": "code",
   "execution_count": 11,
   "id": "20f38345",
   "metadata": {},
   "outputs": [
    {
     "data": {
      "text/plain": [
       "Text(0.5, 1.0, 'Our first Plot')"
      ]
     },
     "execution_count": 11,
     "metadata": {},
     "output_type": "execute_result"
    },
    {
     "data": {
      "image/png": "[encoded data removed]",
      "text/plain": [
       "<Figure size 640x480 with 1 Axes>"
      ]
     },
     "metadata": {},
     "output_type": "display_data"
    }
   ],
   "source": [
    "#object oriented interface\n",
    "import numpy as np\n",
    "fig=plt.figure()\n",
    "ax=fig.add_axes([0.1,0.2,0.8,0.9])\n",
    "\n",
    "ax.plot(x,y,\"purple\")\n",
    "ax.set_xlabel(\"X label\")\n",
    "ax.set_ylabel(\"Y Label\")\n",
    "ax.set_title(\"Our first Plot\")"
   ]
  },
  {
   "cell_type": "code",
   "execution_count": 12,
   "id": "90f77a02",
   "metadata": {},
   "outputs": [
    {
     "data": {
      "image/png": "[encoded data removed]",
      "text/plain": [
       "<Figure size 640x480 with 2 Axes>"
      ]
     },
     "metadata": {},
     "output_type": "display_data"
    }
   ],
   "source": [
    "#Figure in a figure\n",
    "fig=plt.figure()\n",
    "axes1=fig.add_axes([0.1,0.1,0.8,0.8])\n",
    "axes2=fig.add_axes([0.2,0.5,0.4,0.3])"
   ]
  },
  {
   "cell_type": "code",
   "execution_count": 14,
   "id": "c7056599",
   "metadata": {},
   "outputs": [
    {
     "data": {
      "image/png": "[encoded data removed]",
      "text/plain": [
       "<Figure size 640x480 with 9 Axes>"
      ]
     },
     "metadata": {},
     "output_type": "display_data"
    }
   ],
   "source": [
    "#A 3 by 3 subplot grid\n",
    "fig,ax = plt.subplots(nrows=3,ncols=3)\n",
    "ax[0,1].plot(x,y)\n",
    "ax[0,0].plot(y,x)\n",
    "ax[1,0].plot(x,x)\n",
    "ax[1,1].plot(y,y)\n",
    "ax[1,2].plot(x,y)\n",
    "ax[2,0].plot(y,x)\n",
    "ax[2,1].plot(x,x)\n",
    "ax[2,2].plot(y,y)\n",
    "ax[0,2].plot(x,x)\n",
    "ax[1,0].plot(x,y)\n",
    "ax[0,0].plot(y,y)\n",
    "ax[1,2].plot(y,x)\n",
    "\n",
    "plt.tight_layout()"
   ]
  },
  {
   "cell_type": "code",
   "execution_count": 18,
   "id": "52239230",
   "metadata": {},
   "outputs": [
    {
     "data": {
      "image/png": "[encoded data removed]",
      "text/plain": [
       "<Figure size 640x480 with 1 Axes>"
      ]
     },
     "metadata": {},
     "output_type": "display_data"
    }
   ],
   "source": [
    "#Saving a plot as an image file\n",
    "import matplotlib.pyplot as plt\n",
    "import matplotlib.image as mpimg\n",
    "\n",
    "# Create a simple plot and save it\n",
    "plt.plot(x, y)\n",
    "plt.title(\"Our first plot\")\n",
    "plt.savefig('Our first plot.png')\n",
    "plt.close()\n",
    "\n",
    "# Now read and display the saved image\n",
    "img = mpimg.imread('Our first plot.png')\n",
    "plt.imshow(img)\n",
    "plt.axis('off')  # Hide axes for better display\n",
    "plt.show()"
   ]
  },
  {
   "cell_type": "code",
   "execution_count": null,
   "id": "91159a4e",
   "metadata": {},
   "outputs": [
    {
     "data": {
      "text/plain": [
       "<matplotlib.legend.Legend at 0x21b1fa12a50>"
      ]
     },
     "execution_count": 22,
     "metadata": {},
     "output_type": "execute_result"
    },
    {
     "data": {
      "text/plain": [
       "<Figure size 480x360 with 0 Axes>"
      ]
     },
     "metadata": {},
     "output_type": "display_data"
    }
   ],
   "source": [
    "#Legends\n",
    "import numpy as np\n",
    "fig = plt.figure(figsize=(8,6), dpi=60)\n",
    "ax[0,0].plot(x, x**2)\n",
    "ax[0,0].plot(x, x**3, \"red\")\n",
    "\n",
    "\n",
    "\n",
    "\n"
   ]
  },
  {
   "cell_type": "code",
   "execution_count": null,
   "id": "4188ca7b",
   "metadata": {},
   "outputs": [],
   "source": []
  }
 ],
 "metadata": {
  "kernelspec": {
   "display_name": "Python 3",
   "language": "python",
   "name": "python3"
  },
  "language_info": {
   "codemirror_mode": {
    "name": "ipython",
    "version": 3
   },
   "file_extension": ".py",
   "mimetype": "text/x-python",
   "name": "python",
   "nbconvert_exporter": "python",
   "pygments_lexer": "ipython3",
   "version": "3.13.2"
  }
 },
 "nbformat": 4,
 "nbformat_minor": 5
}
